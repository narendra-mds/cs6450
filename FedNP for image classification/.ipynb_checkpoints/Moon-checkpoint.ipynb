{
 "cells": [
  {
   "cell_type": "code",
   "execution_count": 1,
   "id": "eacfb4e7-4bb4-4bfb-9ec8-041e309b6882",
   "metadata": {},
   "outputs": [
    {
     "data": {
      "text/plain": [
       "'3.9.16'"
      ]
     },
     "execution_count": 1,
     "metadata": {},
     "output_type": "execute_result"
    }
   ],
   "source": [
    "from platform import python_version\n",
    "python_version()"
   ]
  },
  {
   "cell_type": "code",
   "execution_count": 2,
   "id": "d3d24614-bd05-4518-a8bf-610a7d94bc29",
   "metadata": {},
   "outputs": [
    {
     "name": "stdout",
     "output_type": "stream",
     "text": [
      "3.9.16 (main, Dec  7 2022, 01:11:51) \n",
      "[GCC 9.4.0]\n"
     ]
    }
   ],
   "source": [
    "import sys\n",
    "print(sys.version)"
   ]
  },
  {
   "cell_type": "code",
   "execution_count": 2,
   "id": "c52874be-99b5-4451-981e-a772f3adffc8",
   "metadata": {},
   "outputs": [
    {
     "data": {
      "text/plain": [
       "'/notebooks/FedNP for image classification'"
      ]
     },
     "execution_count": 2,
     "metadata": {},
     "output_type": "execute_result"
    }
   ],
   "source": [
    "import os\n",
    "os.getcwd()"
   ]
  },
  {
   "cell_type": "code",
   "execution_count": 4,
   "id": "798aa157-b44a-48b3-8c6a-4f56008ccfc7",
   "metadata": {},
   "outputs": [],
   "source": [
    "os.chdir('/notebooks/FedNP for image classification/')"
   ]
  },
  {
   "cell_type": "code",
   "execution_count": null,
   "id": "bffd4dc9-1216-4048-9730-f47afbe7072e",
   "metadata": {
    "tags": []
   },
   "outputs": [
    {
     "name": "stdout",
     "output_type": "stream",
     "text": [
      "GPU ready!\n",
      "2023-04-27 10:40:45 ===> --------------------------------------This is all argsurations----------------------------------\n",
      "2023-04-27 10:40:45 ===> user=Narendra\n",
      "2023-04-27 10:40:45 ===> experiment=MOON\n",
      "2023-04-27 10:40:45 ===> date=2023-04-27-10:40:45\n",
      "2023-04-27 10:40:45 ===> description=non-iid\n",
      "2023-04-27 10:40:45 ===> root=path to training set\n",
      "2023-04-27 10:40:45 ===> dataset=cifar100\n",
      "2023-04-27 10:40:45 ===> data_dist=noniid\n",
      "2023-04-27 10:40:45 ===> num_workers=4\n",
      "2023-04-27 10:40:45 ===> lr=0.01\n",
      "2023-04-27 10:40:45 ===> K=10\n",
      "2023-04-27 10:40:45 ===> wd=1e-05\n",
      "2023-04-27 10:40:45 ===> mu=1\n",
      "2023-04-27 10:40:45 ===> local_epochs=10\n",
      "2023-04-27 10:40:45 ===> epochs=50\n",
      "2023-04-27 10:40:45 ===> seed=0\n",
      "2023-04-27 10:40:45 ===> batch_size=128\n",
      "2023-04-27 10:40:45 ===> save_freq=50\n",
      "2023-04-27 10:40:45 ===> beta=0.5\n",
      "2023-04-27 10:40:45 ===> temp=0.5\n",
      "2023-04-27 10:40:45 ===> ----------------------------------------This is a halvingline----------------------------------\n",
      "2023-04-27 10:40:45 ===> non-iid\n",
      "Files already downloaded and verified\n",
      "Files already downloaded and verified\n",
      "2023-04-27 10:40:47 ===> Loaded backend module://matplotlib_inline.backend_inline version unknown.\n",
      "2023-04-27 10:40:47 ===> findfont: Matching sans\\-serif:style=normal:variant=normal:weight=normal:stretch=normal:size=10.0.\n",
      "2023-04-27 10:40:47 ===> findfont: score(FontEntry(fname='/usr/local/lib/python3.9/dist-packages/matplotlib/mpl-data/fonts/ttf/DejaVuSans-Bold.ttf', name='DejaVu Sans', style='normal', variant='normal', weight=700, stretch='normal', size='scalable')) = 0.33499999999999996\n",
      "2023-04-27 10:40:47 ===> findfont: score(FontEntry(fname='/usr/local/lib/python3.9/dist-packages/matplotlib/mpl-data/fonts/ttf/cmex10.ttf', name='cmex10', style='normal', variant='normal', weight=400, stretch='normal', size='scalable')) = 10.05\n",
      "2023-04-27 10:40:47 ===> findfont: score(FontEntry(fname='/usr/local/lib/python3.9/dist-packages/matplotlib/mpl-data/fonts/ttf/DejaVuSans-Oblique.ttf', name='DejaVu Sans', style='oblique', variant='normal', weight=400, stretch='normal', size='scalable')) = 1.05\n",
      "2023-04-27 10:40:47 ===> findfont: score(FontEntry(fname='/usr/local/lib/python3.9/dist-packages/matplotlib/mpl-data/fonts/ttf/DejaVuSerif-Bold.ttf', name='DejaVu Serif', style='normal', variant='normal', weight=700, stretch='normal', size='scalable')) = 10.335\n",
      "2023-04-27 10:40:47 ===> findfont: score(FontEntry(fname='/usr/local/lib/python3.9/dist-packages/matplotlib/mpl-data/fonts/ttf/STIXSizOneSymBol.ttf', name='STIXSizeOneSym', style='normal', variant='normal', weight=700, stretch='normal', size='scalable')) = 10.335\n",
      "2023-04-27 10:40:47 ===> findfont: score(FontEntry(fname='/usr/local/lib/python3.9/dist-packages/matplotlib/mpl-data/fonts/ttf/STIXGeneralBol.ttf', name='STIXGeneral', style='normal', variant='normal', weight=700, stretch='normal', size='scalable')) = 10.335\n",
      "2023-04-27 10:40:47 ===> findfont: score(FontEntry(fname='/usr/local/lib/python3.9/dist-packages/matplotlib/mpl-data/fonts/ttf/STIXSizThreeSymReg.ttf', name='STIXSizeThreeSym', style='normal', variant='normal', weight=400, stretch='normal', size='scalable')) = 10.05\n",
      "2023-04-27 10:40:47 ===> findfont: score(FontEntry(fname='/usr/local/lib/python3.9/dist-packages/matplotlib/mpl-data/fonts/ttf/STIXGeneralBolIta.ttf', name='STIXGeneral', style='italic', variant='normal', weight=700, stretch='normal', size='scalable')) = 11.335\n",
      "2023-04-27 10:40:47 ===> findfont: score(FontEntry(fname='/usr/local/lib/python3.9/dist-packages/matplotlib/mpl-data/fonts/ttf/cmr10.ttf', name='cmr10', style='normal', variant='normal', weight=400, stretch='normal', size='scalable')) = 10.05\n",
      "2023-04-27 10:40:47 ===> findfont: score(FontEntry(fname='/usr/local/lib/python3.9/dist-packages/matplotlib/mpl-data/fonts/ttf/STIXNonUni.ttf', name='STIXNonUnicode', style='normal', variant='normal', weight=400, stretch='normal', size='scalable')) = 10.05\n",
      "2023-04-27 10:40:47 ===> findfont: score(FontEntry(fname='/usr/local/lib/python3.9/dist-packages/matplotlib/mpl-data/fonts/ttf/DejaVuSerif-Italic.ttf', name='DejaVu Serif', style='italic', variant='normal', weight=400, stretch='normal', size='scalable')) = 11.05\n",
      "2023-04-27 10:40:47 ===> findfont: score(FontEntry(fname='/usr/local/lib/python3.9/dist-packages/matplotlib/mpl-data/fonts/ttf/cmss10.ttf', name='cmss10', style='normal', variant='normal', weight=400, stretch='normal', size='scalable')) = 10.05\n",
      "2023-04-27 10:40:47 ===> findfont: score(FontEntry(fname='/usr/local/lib/python3.9/dist-packages/matplotlib/mpl-data/fonts/ttf/DejaVuSansDisplay.ttf', name='DejaVu Sans Display', style='normal', variant='normal', weight=400, stretch='normal', size='scalable')) = 10.05\n",
      "2023-04-27 10:40:47 ===> findfont: score(FontEntry(fname='/usr/local/lib/python3.9/dist-packages/matplotlib/mpl-data/fonts/ttf/STIXSizOneSymReg.ttf', name='STIXSizeOneSym', style='normal', variant='normal', weight=400, stretch='normal', size='scalable')) = 10.05\n",
      "2023-04-27 10:40:47 ===> findfont: score(FontEntry(fname='/usr/local/lib/python3.9/dist-packages/matplotlib/mpl-data/fonts/ttf/DejaVuSansMono-Oblique.ttf', name='DejaVu Sans Mono', style='oblique', variant='normal', weight=400, stretch='normal', size='scalable')) = 11.05\n",
      "2023-04-27 10:40:47 ===> findfont: score(FontEntry(fname='/usr/local/lib/python3.9/dist-packages/matplotlib/mpl-data/fonts/ttf/DejaVuSerif-BoldItalic.ttf', name='DejaVu Serif', style='italic', variant='normal', weight=700, stretch='normal', size='scalable')) = 11.335\n",
      "2023-04-27 10:40:47 ===> findfont: score(FontEntry(fname='/usr/local/lib/python3.9/dist-packages/matplotlib/mpl-data/fonts/ttf/cmsy10.ttf', name='cmsy10', style='normal', variant='normal', weight=400, stretch='normal', size='scalable')) = 10.05\n",
      "2023-04-27 10:40:47 ===> findfont: score(FontEntry(fname='/usr/local/lib/python3.9/dist-packages/matplotlib/mpl-data/fonts/ttf/STIXSizThreeSymBol.ttf', name='STIXSizeThreeSym', style='normal', variant='normal', weight=700, stretch='normal', size='scalable')) = 10.335\n",
      "2023-04-27 10:40:47 ===> findfont: score(FontEntry(fname='/usr/local/lib/python3.9/dist-packages/matplotlib/mpl-data/fonts/ttf/DejaVuSansMono-BoldOblique.ttf', name='DejaVu Sans Mono', style='oblique', variant='normal', weight=700, stretch='normal', size='scalable')) = 11.335\n",
      "2023-04-27 10:40:47 ===> findfont: score(FontEntry(fname='/usr/local/lib/python3.9/dist-packages/matplotlib/mpl-data/fonts/ttf/STIXSizTwoSymBol.ttf', name='STIXSizeTwoSym', style='normal', variant='normal', weight=700, stretch='normal', size='scalable')) = 10.335\n",
      "2023-04-27 10:40:47 ===> findfont: score(FontEntry(fname='/usr/local/lib/python3.9/dist-packages/matplotlib/mpl-data/fonts/ttf/DejaVuSerif.ttf', name='DejaVu Serif', style='normal', variant='normal', weight=400, stretch='normal', size='scalable')) = 10.05\n",
      "2023-04-27 10:40:47 ===> findfont: score(FontEntry(fname='/usr/local/lib/python3.9/dist-packages/matplotlib/mpl-data/fonts/ttf/STIXNonUniIta.ttf', name='STIXNonUnicode', style='italic', variant='normal', weight=400, stretch='normal', size='scalable')) = 11.05\n",
      "2023-04-27 10:40:47 ===> findfont: score(FontEntry(fname='/usr/local/lib/python3.9/dist-packages/matplotlib/mpl-data/fonts/ttf/DejaVuSansMono-Bold.ttf', name='DejaVu Sans Mono', style='normal', variant='normal', weight=700, stretch='normal', size='scalable')) = 10.335\n",
      "2023-04-27 10:40:47 ===> findfont: score(FontEntry(fname='/usr/local/lib/python3.9/dist-packages/matplotlib/mpl-data/fonts/ttf/cmb10.ttf', name='cmb10', style='normal', variant='normal', weight=400, stretch='normal', size='scalable')) = 10.05\n",
      "2023-04-27 10:40:47 ===> findfont: score(FontEntry(fname='/usr/local/lib/python3.9/dist-packages/matplotlib/mpl-data/fonts/ttf/STIXSizFourSymBol.ttf', name='STIXSizeFourSym', style='normal', variant='normal', weight=700, stretch='normal', size='scalable')) = 10.335\n",
      "2023-04-27 10:40:47 ===> findfont: score(FontEntry(fname='/usr/local/lib/python3.9/dist-packages/matplotlib/mpl-data/fonts/ttf/DejaVuSans-BoldOblique.ttf', name='DejaVu Sans', style='oblique', variant='normal', weight=700, stretch='normal', size='scalable')) = 1.335\n",
      "2023-04-27 10:40:47 ===> findfont: score(FontEntry(fname='/usr/local/lib/python3.9/dist-packages/matplotlib/mpl-data/fonts/ttf/STIXGeneral.ttf', name='STIXGeneral', style='normal', variant='normal', weight=400, stretch='normal', size='scalable')) = 10.05\n",
      "2023-04-27 10:40:47 ===> findfont: score(FontEntry(fname='/usr/local/lib/python3.9/dist-packages/matplotlib/mpl-data/fonts/ttf/STIXSizTwoSymReg.ttf', name='STIXSizeTwoSym', style='normal', variant='normal', weight=400, stretch='normal', size='scalable')) = 10.05\n",
      "2023-04-27 10:40:47 ===> findfont: score(FontEntry(fname='/usr/local/lib/python3.9/dist-packages/matplotlib/mpl-data/fonts/ttf/cmtt10.ttf', name='cmtt10', style='normal', variant='normal', weight=400, stretch='normal', size='scalable')) = 10.05\n",
      "2023-04-27 10:40:47 ===> findfont: score(FontEntry(fname='/usr/local/lib/python3.9/dist-packages/matplotlib/mpl-data/fonts/ttf/cmmi10.ttf', name='cmmi10', style='normal', variant='normal', weight=400, stretch='normal', size='scalable')) = 10.05\n",
      "2023-04-27 10:40:47 ===> findfont: score(FontEntry(fname='/usr/local/lib/python3.9/dist-packages/matplotlib/mpl-data/fonts/ttf/DejaVuSans.ttf', name='DejaVu Sans', style='normal', variant='normal', weight=400, stretch='normal', size='scalable')) = 0.05\n",
      "2023-04-27 10:40:47 ===> findfont: score(FontEntry(fname='/usr/local/lib/python3.9/dist-packages/matplotlib/mpl-data/fonts/ttf/STIXGeneralItalic.ttf', name='STIXGeneral', style='italic', variant='normal', weight=400, stretch='normal', size='scalable')) = 11.05\n",
      "2023-04-27 10:40:47 ===> findfont: score(FontEntry(fname='/usr/local/lib/python3.9/dist-packages/matplotlib/mpl-data/fonts/ttf/STIXSizFourSymReg.ttf', name='STIXSizeFourSym', style='normal', variant='normal', weight=400, stretch='normal', size='scalable')) = 10.05\n",
      "2023-04-27 10:40:47 ===> findfont: score(FontEntry(fname='/usr/local/lib/python3.9/dist-packages/matplotlib/mpl-data/fonts/ttf/DejaVuSerifDisplay.ttf', name='DejaVu Serif Display', style='normal', variant='normal', weight=400, stretch='normal', size='scalable')) = 10.05\n",
      "2023-04-27 10:40:47 ===> findfont: score(FontEntry(fname='/usr/local/lib/python3.9/dist-packages/matplotlib/mpl-data/fonts/ttf/STIXSizFiveSymReg.ttf', name='STIXSizeFiveSym', style='normal', variant='normal', weight=400, stretch='normal', size='scalable')) = 10.05\n",
      "2023-04-27 10:40:47 ===> findfont: score(FontEntry(fname='/usr/local/lib/python3.9/dist-packages/matplotlib/mpl-data/fonts/ttf/STIXNonUniBolIta.ttf', name='STIXNonUnicode', style='italic', variant='normal', weight=700, stretch='normal', size='scalable')) = 11.335\n",
      "2023-04-27 10:40:47 ===> findfont: score(FontEntry(fname='/usr/local/lib/python3.9/dist-packages/matplotlib/mpl-data/fonts/ttf/STIXNonUniBol.ttf', name='STIXNonUnicode', style='normal', variant='normal', weight=700, stretch='normal', size='scalable')) = 10.335\n",
      "2023-04-27 10:40:47 ===> findfont: score(FontEntry(fname='/usr/local/lib/python3.9/dist-packages/matplotlib/mpl-data/fonts/ttf/DejaVuSansMono.ttf', name='DejaVu Sans Mono', style='normal', variant='normal', weight=400, stretch='normal', size='scalable')) = 10.05\n",
      "2023-04-27 10:40:47 ===> findfont: score(FontEntry(fname='/usr/share/fonts/truetype/dejavu/DejaVuSans.ttf', name='DejaVu Sans', style='normal', variant='normal', weight=400, stretch='normal', size='scalable')) = 0.05\n",
      "2023-04-27 10:40:47 ===> findfont: score(FontEntry(fname='/usr/share/fonts/truetype/dejavu/DejaVuSansMono.ttf', name='DejaVu Sans Mono', style='normal', variant='normal', weight=400, stretch='normal', size='scalable')) = 10.05\n",
      "2023-04-27 10:40:47 ===> findfont: score(FontEntry(fname='/usr/share/fonts/truetype/dejavu/DejaVuSerif.ttf', name='DejaVu Serif', style='normal', variant='normal', weight=400, stretch='normal', size='scalable')) = 10.05\n",
      "2023-04-27 10:40:47 ===> findfont: score(FontEntry(fname='/usr/share/fonts/truetype/dejavu/DejaVuSans-Bold.ttf', name='DejaVu Sans', style='normal', variant='normal', weight=700, stretch='normal', size='scalable')) = 0.33499999999999996\n",
      "2023-04-27 10:40:47 ===> findfont: score(FontEntry(fname='/usr/share/fonts/truetype/dejavu/DejaVuSansMono-Bold.ttf', name='DejaVu Sans Mono', style='normal', variant='normal', weight=700, stretch='normal', size='scalable')) = 10.335\n",
      "2023-04-27 10:40:47 ===> findfont: score(FontEntry(fname='/usr/share/fonts/truetype/dejavu/DejaVuSerif-Bold.ttf', name='DejaVu Serif', style='normal', variant='normal', weight=700, stretch='normal', size='scalable')) = 10.335\n",
      "2023-04-27 10:40:47 ===> findfont: Matching sans\\-serif:style=normal:variant=normal:weight=normal:stretch=normal:size=10.0 to DejaVu Sans ('/usr/local/lib/python3.9/dist-packages/matplotlib/mpl-data/fonts/ttf/DejaVuSans.ttf') with score of 0.050000.\n",
      "2023-04-27 10:40:47 ===> Samples for train of 0= 5034\n",
      "2023-04-27 10:40:47 ===> Samples for train of 1= 5025\n",
      "2023-04-27 10:40:47 ===> Samples for train of 2= 4969\n",
      "2023-04-27 10:40:47 ===> Samples for train of 3= 4942\n",
      "2023-04-27 10:40:47 ===> Samples for train of 4= 4965\n",
      "2023-04-27 10:40:47 ===> Samples for train of 5= 4969\n",
      "2023-04-27 10:40:47 ===> Samples for train of 6= 4989\n",
      "2023-04-27 10:40:47 ===> Samples for train of 7= 4995\n",
      "2023-04-27 10:40:47 ===> Samples for train of 8= 5025\n",
      "2023-04-27 10:40:47 ===> Samples for train of 9= 5087\n",
      "2023-04-27 10:41:29 ===> Epoch: 0 eval_loss: 5.1048 eval_top1: 10.1300 eval_top5: 24.1900\n",
      "2023-04-27 10:41:29 ===> Current epoch time consumption: 0.65 minutes!\n",
      "2023-04-27 10:42:05 ===> Current epoch time consumption: 0.59 minutes!\n",
      "2023-04-27 10:42:40 ===> Current epoch time consumption: 0.59 minutes!\n",
      "2023-04-27 10:43:15 ===> Current epoch time consumption: 0.58 minutes!\n",
      "2023-04-27 10:43:50 ===> Current epoch time consumption: 0.58 minutes!\n",
      "2023-04-27 10:44:25 ===> Current epoch time consumption: 0.58 minutes!\n",
      "2023-04-27 10:45:00 ===> Current epoch time consumption: 0.58 minutes!\n",
      "2023-04-27 10:45:36 ===> Current epoch time consumption: 0.60 minutes!\n",
      "2023-04-27 10:46:12 ===> Current epoch time consumption: 0.60 minutes!\n",
      "2023-04-27 10:46:48 ===> Current epoch time consumption: 0.60 minutes!\n",
      "2023-04-27 10:46:50 ===> =================================================================\n",
      "2023-04-27 10:46:50 ===> Epoch: 0 eval_loss: 4.2431 eval_top1: 5.5900 eval_top5: 20.0100\n",
      "2023-04-27 10:46:50 ===> Current epoch time consumption: 5.99 minutes!\n",
      "2023-04-27 10:46:50 ===> Estimated remaining training time: 4.89 hours!\n",
      "2023-04-27 10:47:43 ===> Epoch: 1 eval_loss: 4.5623 eval_top1: 13.5000 eval_top5: 31.2100\n",
      "2023-04-27 10:47:43 ===> Current epoch time consumption: 0.89 minutes!\n",
      "2023-04-27 10:48:35 ===> Current epoch time consumption: 0.87 minutes!\n",
      "2023-04-27 10:49:26 ===> Current epoch time consumption: 0.85 minutes!\n",
      "2023-04-27 10:50:16 ===> Current epoch time consumption: 0.84 minutes!\n",
      "2023-04-27 10:51:07 ===> Current epoch time consumption: 0.84 minutes!\n",
      "2023-04-27 10:51:58 ===> Current epoch time consumption: 0.85 minutes!\n",
      "2023-04-27 10:52:48 ===> Current epoch time consumption: 0.84 minutes!\n",
      "2023-04-27 10:53:40 ===> Current epoch time consumption: 0.86 minutes!\n",
      "2023-04-27 10:54:32 ===> Current epoch time consumption: 0.86 minutes!\n",
      "2023-04-27 10:55:24 ===> Current epoch time consumption: 0.86 minutes!\n",
      "2023-04-27 10:55:25 ===> =================================================================\n",
      "2023-04-27 10:55:25 ===> Epoch: 1 eval_loss: 3.5150 eval_top1: 16.5100 eval_top5: 43.0700\n",
      "2023-04-27 10:55:25 ===> Current epoch time consumption: 8.59 minutes!\n",
      "2023-04-27 10:55:25 ===> Estimated remaining training time: 6.88 hours!\n",
      "2023-04-27 10:56:18 ===> Epoch: 2 eval_loss: 4.3367 eval_top1: 15.5200 eval_top5: 35.8400\n",
      "2023-04-27 10:56:18 ===> Current epoch time consumption: 0.89 minutes!\n",
      "2023-04-27 10:57:10 ===> Current epoch time consumption: 0.86 minutes!\n",
      "2023-04-27 10:58:01 ===> Current epoch time consumption: 0.84 minutes!\n",
      "2023-04-27 10:58:51 ===> Current epoch time consumption: 0.84 minutes!\n",
      "2023-04-27 10:59:42 ===> Current epoch time consumption: 0.84 minutes!\n",
      "2023-04-27 11:00:32 ===> Current epoch time consumption: 0.84 minutes!\n",
      "2023-04-27 11:01:23 ===> Current epoch time consumption: 0.84 minutes!\n",
      "2023-04-27 11:02:15 ===> Current epoch time consumption: 0.87 minutes!\n",
      "2023-04-27 11:03:07 ===> Current epoch time consumption: 0.86 minutes!\n",
      "2023-04-27 11:03:59 ===> Current epoch time consumption: 0.86 minutes!\n",
      "2023-04-27 11:04:00 ===> =================================================================\n",
      "2023-04-27 11:04:00 ===> Epoch: 2 eval_loss: 3.0994 eval_top1: 24.0500 eval_top5: 54.4200\n",
      "2023-04-27 11:04:00 ===> Current epoch time consumption: 8.59 minutes!\n",
      "2023-04-27 11:04:00 ===> Estimated remaining training time: 6.73 hours!\n",
      "2023-04-27 11:04:54 ===> Epoch: 3 eval_loss: 4.0977 eval_top1: 18.1600 eval_top5: 40.1800\n",
      "2023-04-27 11:04:54 ===> Current epoch time consumption: 0.89 minutes!\n",
      "2023-04-27 11:05:46 ===> Current epoch time consumption: 0.86 minutes!\n",
      "2023-04-27 11:06:36 ===> Current epoch time consumption: 0.84 minutes!\n",
      "2023-04-27 11:07:27 ===> Current epoch time consumption: 0.84 minutes!\n",
      "2023-04-27 11:08:17 ===> Current epoch time consumption: 0.84 minutes!\n",
      "2023-04-27 11:09:08 ===> Current epoch time consumption: 0.84 minutes!\n",
      "2023-04-27 11:09:59 ===> Current epoch time consumption: 0.84 minutes!\n",
      "2023-04-27 11:10:51 ===> Current epoch time consumption: 0.87 minutes!\n",
      "2023-04-27 11:11:42 ===> Current epoch time consumption: 0.86 minutes!\n",
      "2023-04-27 11:12:34 ===> Current epoch time consumption: 0.87 minutes!\n",
      "2023-04-27 11:12:36 ===> =================================================================\n",
      "2023-04-27 11:12:36 ===> Epoch: 3 eval_loss: 2.7892 eval_top1: 30.0500 eval_top5: 61.6800\n",
      "2023-04-27 11:12:36 ===> Current epoch time consumption: 8.59 minutes!\n",
      "2023-04-27 11:12:36 ===> Estimated remaining training time: 6.58 hours!\n",
      "2023-04-27 11:13:29 ===> Epoch: 4 eval_loss: 3.9865 eval_top1: 18.5300 eval_top5: 42.0800\n",
      "2023-04-27 11:13:29 ===> Current epoch time consumption: 0.89 minutes!\n",
      "2023-04-27 11:14:21 ===> Current epoch time consumption: 0.87 minutes!\n",
      "2023-04-27 11:15:11 ===> Current epoch time consumption: 0.84 minutes!\n",
      "2023-04-27 11:16:02 ===> Current epoch time consumption: 0.85 minutes!\n",
      "2023-04-27 11:16:53 ===> Current epoch time consumption: 0.85 minutes!\n",
      "2023-04-27 11:17:44 ===> Current epoch time consumption: 0.85 minutes!\n",
      "2023-04-27 11:18:35 ===> Current epoch time consumption: 0.85 minutes!\n",
      "2023-04-27 11:19:27 ===> Current epoch time consumption: 0.87 minutes!\n",
      "2023-04-27 11:20:19 ===> Current epoch time consumption: 0.87 minutes!\n",
      "2023-04-27 11:21:11 ===> Current epoch time consumption: 0.87 minutes!\n",
      "2023-04-27 11:21:12 ===> =================================================================\n",
      "2023-04-27 11:21:12 ===> Epoch: 4 eval_loss: 2.5693 eval_top1: 33.7600 eval_top5: 66.7600\n",
      "2023-04-27 11:21:12 ===> Current epoch time consumption: 8.61 minutes!\n",
      "2023-04-27 11:21:12 ===> Estimated remaining training time: 6.45 hours!\n"
     ]
    }
   ],
   "source": [
    "!python moon.py \\\n",
    "    --user Narendra \\\n",
    "    --dataset cifar100 \\\n",
    "    --data_dist noniid \\\n",
    "    --K 10 \\\n",
    "    --local_epochs 10 \\\n",
    "    --epochs 50"
   ]
  },
  {
   "cell_type": "code",
   "execution_count": 3,
   "id": "d424a093-6486-478b-8830-3ec9723a324b",
   "metadata": {},
   "outputs": [
    {
     "name": "stdout",
     "output_type": "stream",
     "text": [
      "Collecting tensorboardX\n",
      "  Downloading tensorboardX-2.6-py2.py3-none-any.whl (114 kB)\n",
      "\u001b[2K     \u001b[90m━━━━━━━━━━━━━━━━━━━━━━━━━━━━━━━━━━━━━━\u001b[0m \u001b[32m114.5/114.5 kB\u001b[0m \u001b[31m19.8 MB/s\u001b[0m eta \u001b[36m0:00:00\u001b[0m\n",
      "\u001b[?25hRequirement already satisfied: numpy in /usr/local/lib/python3.9/dist-packages (from tensorboardX) (1.23.4)\n",
      "Requirement already satisfied: packaging in /usr/local/lib/python3.9/dist-packages (from tensorboardX) (23.0)\n",
      "Requirement already satisfied: protobuf<4,>=3.8.0 in /usr/local/lib/python3.9/dist-packages (from tensorboardX) (3.19.6)\n",
      "Installing collected packages: tensorboardX\n",
      "Successfully installed tensorboardX-2.6\n",
      "\u001b[33mWARNING: Running pip as the 'root' user can result in broken permissions and conflicting behaviour with the system package manager. It is recommended to use a virtual environment instead: https://pip.pypa.io/warnings/venv\u001b[0m\u001b[33m\n",
      "\u001b[0m"
     ]
    }
   ],
   "source": [
    "!python -m pip install tensorboardX"
   ]
  },
  {
   "cell_type": "code",
   "execution_count": 7,
   "id": "22c9abba-b2c8-4984-bdc7-5baa83205b33",
   "metadata": {},
   "outputs": [],
   "source": [
    "import numpy"
   ]
  },
  {
   "cell_type": "code",
   "execution_count": 2,
   "id": "f4429641-7f23-41bb-ad3f-c1c8d462a3f3",
   "metadata": {},
   "outputs": [],
   "source": [
    "import subprocess\n",
    "import sys\n",
    "\n",
    "def install(package):\n",
    "    subprocess.check_call([sys.executable, \"-m\", \"pip\", \"install\", package])"
   ]
  },
  {
   "cell_type": "code",
   "execution_count": 3,
   "id": "88962215-6e8e-4acc-9e85-3909c64e6676",
   "metadata": {},
   "outputs": [
    {
     "name": "stdout",
     "output_type": "stream",
     "text": [
      "Requirement already satisfied: numpy in /root/.pyenv/versions/3.7.10/lib/python3.7/site-packages (1.21.6)\n"
     ]
    },
    {
     "name": "stderr",
     "output_type": "stream",
     "text": [
      "WARNING: Running pip as the 'root' user can result in broken permissions and conflicting behaviour with the system package manager. It is recommended to use a virtual environment instead: https://pip.pypa.io/warnings/venv\n"
     ]
    }
   ],
   "source": [
    "install('numpy')"
   ]
  },
  {
   "cell_type": "code",
   "execution_count": null,
   "id": "feca7fc7-34b2-4948-8e45-57ef86d17167",
   "metadata": {},
   "outputs": [],
   "source": []
  }
 ],
 "metadata": {
  "kernelspec": {
   "display_name": "Python 3 (ipykernel)",
   "language": "python",
   "name": "python3"
  },
  "language_info": {
   "codemirror_mode": {
    "name": "ipython",
    "version": 3
   },
   "file_extension": ".py",
   "mimetype": "text/x-python",
   "name": "python",
   "nbconvert_exporter": "python",
   "pygments_lexer": "ipython3",
   "version": "3.9.16"
  }
 },
 "nbformat": 4,
 "nbformat_minor": 5
}
