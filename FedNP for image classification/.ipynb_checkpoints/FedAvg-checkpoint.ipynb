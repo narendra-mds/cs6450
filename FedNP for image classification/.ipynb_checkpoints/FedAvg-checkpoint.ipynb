{
 "cells": [
  {
   "cell_type": "code",
   "execution_count": 1,
   "id": "39c46add-f3c5-4f72-af4d-c50f0d45fa09",
   "metadata": {},
   "outputs": [
    {
     "data": {
      "text/plain": [
       "'3.9.16'"
      ]
     },
     "execution_count": 1,
     "metadata": {},
     "output_type": "execute_result"
    }
   ],
   "source": [
    "from platform import python_version\n",
    "python_version()"
   ]
  },
  {
   "cell_type": "code",
   "execution_count": 2,
   "id": "20fe8797-fbdf-4d4b-aec4-1fb846c7f499",
   "metadata": {},
   "outputs": [
    {
     "data": {
      "text/plain": [
       "'/notebooks/FedNP for image classification'"
      ]
     },
     "execution_count": 2,
     "metadata": {},
     "output_type": "execute_result"
    }
   ],
   "source": [
    "import os\n",
    "os.getcwd()"
   ]
  },
  {
   "cell_type": "code",
   "execution_count": 3,
   "id": "93db3ef6-a2f4-4d41-aa50-793d258774d7",
   "metadata": {},
   "outputs": [],
   "source": [
    "%reload_ext tensorboard"
   ]
  },
  {
   "cell_type": "code",
   "execution_count": 29,
   "id": "24b29800-68a8-473b-a39b-5bafa9c269fe",
   "metadata": {},
   "outputs": [],
   "source": [
    "!kill 9649"
   ]
  },
  {
   "cell_type": "code",
   "execution_count": 28,
   "id": "d2b63bc2-c6f2-4b10-a68b-ad1546dae8fc",
   "metadata": {},
   "outputs": [
    {
     "data": {
      "text/plain": [
       "Reusing TensorBoard on port 6008 (pid 9649), started 0:02:48 ago. (Use '!kill 9649' to kill it.)"
      ]
     },
     "metadata": {},
     "output_type": "display_data"
    },
    {
     "data": {
      "text/html": [
       "\n",
       "      <iframe id=\"tensorboard-frame-4a3690815ad5bf35\" width=\"100%\" height=\"800\" frameborder=\"0\">\n",
       "      </iframe>\n",
       "      <script>\n",
       "        (function() {\n",
       "          const frame = document.getElementById(\"tensorboard-frame-4a3690815ad5bf35\");\n",
       "          const url = new URL(\"/\", window.location);\n",
       "          const port = 6008;\n",
       "          if (port) {\n",
       "            url.port = port;\n",
       "          }\n",
       "          frame.src = url;\n",
       "        })();\n",
       "      </script>\n",
       "    "
      ],
      "text/plain": [
       "<IPython.core.display.HTML object>"
      ]
     },
     "metadata": {},
     "output_type": "display_data"
    }
   ],
   "source": [
    "tensorboard --logdir=./runs --host localhost --port 6008"
   ]
  },
  {
   "cell_type": "code",
   "execution_count": null,
   "id": "4649b759-2002-48f3-adf2-2167e23dae64",
   "metadata": {
    "tags": []
   },
   "outputs": [
    {
     "name": "stdout",
     "output_type": "stream",
     "text": [
      "GPU ready!\n",
      "2023-04-27 04:20:59 ===> --------------------------------------This is all argsurations----------------------------------\n",
      "2023-04-27 04:20:59 ===> user=Dylon\n",
      "2023-04-27 04:20:59 ===> experiment=FedAvg\n",
      "2023-04-27 04:20:59 ===> date=2023-04-27-04:20:58\n",
      "2023-04-27 04:20:59 ===> description=non-iid\n",
      "2023-04-27 04:20:59 ===> root=path to training set\n",
      "2023-04-27 04:20:59 ===> dataset=cifar100\n",
      "2023-04-27 04:20:59 ===> data_dist=noniid\n",
      "2023-04-27 04:20:59 ===> num_workers=4\n",
      "2023-04-27 04:20:59 ===> lr=0.01\n",
      "2023-04-27 04:20:59 ===> K=10\n",
      "2023-04-27 04:20:59 ===> wd=1e-05\n",
      "2023-04-27 04:20:59 ===> epochs=50\n",
      "2023-04-27 04:20:59 ===> local_epochs=10\n",
      "2023-04-27 04:20:59 ===> seed=0\n",
      "2023-04-27 04:20:59 ===> batch_size=128\n",
      "2023-04-27 04:20:59 ===> save_freq=50\n",
      "2023-04-27 04:20:59 ===> beta=0.5\n",
      "2023-04-27 04:20:59 ===> ----------------------------------------This is a halvingline----------------------------------\n",
      "2023-04-27 04:20:59 ===> non-iid\n",
      "Files already downloaded and verified\n",
      "Files already downloaded and verified\n",
      "2023-04-27 04:21:01 ===> Loaded backend module://matplotlib_inline.backend_inline version unknown.\n",
      "2023-04-27 04:21:01 ===> findfont: Matching sans\\-serif:style=normal:variant=normal:weight=normal:stretch=normal:size=10.0.\n",
      "2023-04-27 04:21:01 ===> findfont: score(FontEntry(fname='/usr/local/lib/python3.9/dist-packages/matplotlib/mpl-data/fonts/ttf/DejaVuSerif.ttf', name='DejaVu Serif', style='normal', variant='normal', weight=400, stretch='normal', size='scalable')) = 10.05\n",
      "2023-04-27 04:21:01 ===> findfont: score(FontEntry(fname='/usr/local/lib/python3.9/dist-packages/matplotlib/mpl-data/fonts/ttf/STIXGeneralItalic.ttf', name='STIXGeneral', style='italic', variant='normal', weight=400, stretch='normal', size='scalable')) = 11.05\n",
      "2023-04-27 04:21:01 ===> findfont: score(FontEntry(fname='/usr/local/lib/python3.9/dist-packages/matplotlib/mpl-data/fonts/ttf/STIXNonUniBol.ttf', name='STIXNonUnicode', style='normal', variant='normal', weight=700, stretch='normal', size='scalable')) = 10.335\n",
      "2023-04-27 04:21:01 ===> findfont: score(FontEntry(fname='/usr/local/lib/python3.9/dist-packages/matplotlib/mpl-data/fonts/ttf/STIXSizThreeSymBol.ttf', name='STIXSizeThreeSym', style='normal', variant='normal', weight=700, stretch='normal', size='scalable')) = 10.335\n",
      "2023-04-27 04:21:01 ===> findfont: score(FontEntry(fname='/usr/local/lib/python3.9/dist-packages/matplotlib/mpl-data/fonts/ttf/STIXSizTwoSymReg.ttf', name='STIXSizeTwoSym', style='normal', variant='normal', weight=400, stretch='normal', size='scalable')) = 10.05\n",
      "2023-04-27 04:21:01 ===> findfont: score(FontEntry(fname='/usr/local/lib/python3.9/dist-packages/matplotlib/mpl-data/fonts/ttf/DejaVuSerifDisplay.ttf', name='DejaVu Serif Display', style='normal', variant='normal', weight=400, stretch='normal', size='scalable')) = 10.05\n",
      "2023-04-27 04:21:01 ===> findfont: score(FontEntry(fname='/usr/local/lib/python3.9/dist-packages/matplotlib/mpl-data/fonts/ttf/STIXNonUniIta.ttf', name='STIXNonUnicode', style='italic', variant='normal', weight=400, stretch='normal', size='scalable')) = 11.05\n",
      "2023-04-27 04:21:01 ===> findfont: score(FontEntry(fname='/usr/local/lib/python3.9/dist-packages/matplotlib/mpl-data/fonts/ttf/DejaVuSansMono-Oblique.ttf', name='DejaVu Sans Mono', style='oblique', variant='normal', weight=400, stretch='normal', size='scalable')) = 11.05\n",
      "2023-04-27 04:21:01 ===> findfont: score(FontEntry(fname='/usr/local/lib/python3.9/dist-packages/matplotlib/mpl-data/fonts/ttf/cmex10.ttf', name='cmex10', style='normal', variant='normal', weight=400, stretch='normal', size='scalable')) = 10.05\n",
      "2023-04-27 04:21:01 ===> findfont: score(FontEntry(fname='/usr/local/lib/python3.9/dist-packages/matplotlib/mpl-data/fonts/ttf/STIXSizFourSymBol.ttf', name='STIXSizeFourSym', style='normal', variant='normal', weight=700, stretch='normal', size='scalable')) = 10.335\n",
      "2023-04-27 04:21:01 ===> findfont: score(FontEntry(fname='/usr/local/lib/python3.9/dist-packages/matplotlib/mpl-data/fonts/ttf/STIXSizOneSymReg.ttf', name='STIXSizeOneSym', style='normal', variant='normal', weight=400, stretch='normal', size='scalable')) = 10.05\n",
      "2023-04-27 04:21:01 ===> findfont: score(FontEntry(fname='/usr/local/lib/python3.9/dist-packages/matplotlib/mpl-data/fonts/ttf/DejaVuSerif-BoldItalic.ttf', name='DejaVu Serif', style='italic', variant='normal', weight=700, stretch='normal', size='scalable')) = 11.335\n",
      "2023-04-27 04:21:01 ===> findfont: score(FontEntry(fname='/usr/local/lib/python3.9/dist-packages/matplotlib/mpl-data/fonts/ttf/STIXNonUniBolIta.ttf', name='STIXNonUnicode', style='italic', variant='normal', weight=700, stretch='normal', size='scalable')) = 11.335\n",
      "2023-04-27 04:21:01 ===> findfont: score(FontEntry(fname='/usr/local/lib/python3.9/dist-packages/matplotlib/mpl-data/fonts/ttf/cmsy10.ttf', name='cmsy10', style='normal', variant='normal', weight=400, stretch='normal', size='scalable')) = 10.05\n",
      "2023-04-27 04:21:01 ===> findfont: score(FontEntry(fname='/usr/local/lib/python3.9/dist-packages/matplotlib/mpl-data/fonts/ttf/DejaVuSansDisplay.ttf', name='DejaVu Sans Display', style='normal', variant='normal', weight=400, stretch='normal', size='scalable')) = 10.05\n",
      "2023-04-27 04:21:01 ===> findfont: score(FontEntry(fname='/usr/local/lib/python3.9/dist-packages/matplotlib/mpl-data/fonts/ttf/STIXGeneral.ttf', name='STIXGeneral', style='normal', variant='normal', weight=400, stretch='normal', size='scalable')) = 10.05\n",
      "2023-04-27 04:21:01 ===> findfont: score(FontEntry(fname='/usr/local/lib/python3.9/dist-packages/matplotlib/mpl-data/fonts/ttf/STIXSizOneSymBol.ttf', name='STIXSizeOneSym', style='normal', variant='normal', weight=700, stretch='normal', size='scalable')) = 10.335\n",
      "2023-04-27 04:21:01 ===> findfont: score(FontEntry(fname='/usr/local/lib/python3.9/dist-packages/matplotlib/mpl-data/fonts/ttf/DejaVuSerif-Bold.ttf', name='DejaVu Serif', style='normal', variant='normal', weight=700, stretch='normal', size='scalable')) = 10.335\n",
      "2023-04-27 04:21:01 ===> findfont: score(FontEntry(fname='/usr/local/lib/python3.9/dist-packages/matplotlib/mpl-data/fonts/ttf/STIXNonUni.ttf', name='STIXNonUnicode', style='normal', variant='normal', weight=400, stretch='normal', size='scalable')) = 10.05\n",
      "2023-04-27 04:21:01 ===> findfont: score(FontEntry(fname='/usr/local/lib/python3.9/dist-packages/matplotlib/mpl-data/fonts/ttf/DejaVuSans-BoldOblique.ttf', name='DejaVu Sans', style='oblique', variant='normal', weight=700, stretch='normal', size='scalable')) = 1.335\n",
      "2023-04-27 04:21:01 ===> findfont: score(FontEntry(fname='/usr/local/lib/python3.9/dist-packages/matplotlib/mpl-data/fonts/ttf/cmtt10.ttf', name='cmtt10', style='normal', variant='normal', weight=400, stretch='normal', size='scalable')) = 10.05\n",
      "2023-04-27 04:21:01 ===> findfont: score(FontEntry(fname='/usr/local/lib/python3.9/dist-packages/matplotlib/mpl-data/fonts/ttf/STIXSizThreeSymReg.ttf', name='STIXSizeThreeSym', style='normal', variant='normal', weight=400, stretch='normal', size='scalable')) = 10.05\n",
      "2023-04-27 04:21:01 ===> findfont: score(FontEntry(fname='/usr/local/lib/python3.9/dist-packages/matplotlib/mpl-data/fonts/ttf/cmss10.ttf', name='cmss10', style='normal', variant='normal', weight=400, stretch='normal', size='scalable')) = 10.05\n",
      "2023-04-27 04:21:01 ===> findfont: score(FontEntry(fname='/usr/local/lib/python3.9/dist-packages/matplotlib/mpl-data/fonts/ttf/DejaVuSansMono-BoldOblique.ttf', name='DejaVu Sans Mono', style='oblique', variant='normal', weight=700, stretch='normal', size='scalable')) = 11.335\n",
      "2023-04-27 04:21:01 ===> findfont: score(FontEntry(fname='/usr/local/lib/python3.9/dist-packages/matplotlib/mpl-data/fonts/ttf/STIXSizFiveSymReg.ttf', name='STIXSizeFiveSym', style='normal', variant='normal', weight=400, stretch='normal', size='scalable')) = 10.05\n",
      "2023-04-27 04:21:01 ===> findfont: score(FontEntry(fname='/usr/local/lib/python3.9/dist-packages/matplotlib/mpl-data/fonts/ttf/STIXSizTwoSymBol.ttf', name='STIXSizeTwoSym', style='normal', variant='normal', weight=700, stretch='normal', size='scalable')) = 10.335\n",
      "2023-04-27 04:21:01 ===> findfont: score(FontEntry(fname='/usr/local/lib/python3.9/dist-packages/matplotlib/mpl-data/fonts/ttf/cmr10.ttf', name='cmr10', style='normal', variant='normal', weight=400, stretch='normal', size='scalable')) = 10.05\n",
      "2023-04-27 04:21:01 ===> findfont: score(FontEntry(fname='/usr/local/lib/python3.9/dist-packages/matplotlib/mpl-data/fonts/ttf/STIXGeneralBolIta.ttf', name='STIXGeneral', style='italic', variant='normal', weight=700, stretch='normal', size='scalable')) = 11.335\n",
      "2023-04-27 04:21:01 ===> findfont: score(FontEntry(fname='/usr/local/lib/python3.9/dist-packages/matplotlib/mpl-data/fonts/ttf/DejaVuSans-Bold.ttf', name='DejaVu Sans', style='normal', variant='normal', weight=700, stretch='normal', size='scalable')) = 0.33499999999999996\n",
      "2023-04-27 04:21:01 ===> findfont: score(FontEntry(fname='/usr/local/lib/python3.9/dist-packages/matplotlib/mpl-data/fonts/ttf/cmmi10.ttf', name='cmmi10', style='normal', variant='normal', weight=400, stretch='normal', size='scalable')) = 10.05\n",
      "2023-04-27 04:21:01 ===> findfont: score(FontEntry(fname='/usr/local/lib/python3.9/dist-packages/matplotlib/mpl-data/fonts/ttf/DejaVuSerif-Italic.ttf', name='DejaVu Serif', style='italic', variant='normal', weight=400, stretch='normal', size='scalable')) = 11.05\n",
      "2023-04-27 04:21:01 ===> findfont: score(FontEntry(fname='/usr/local/lib/python3.9/dist-packages/matplotlib/mpl-data/fonts/ttf/DejaVuSans-Oblique.ttf', name='DejaVu Sans', style='oblique', variant='normal', weight=400, stretch='normal', size='scalable')) = 1.05\n",
      "2023-04-27 04:21:01 ===> findfont: score(FontEntry(fname='/usr/local/lib/python3.9/dist-packages/matplotlib/mpl-data/fonts/ttf/STIXSizFourSymReg.ttf', name='STIXSizeFourSym', style='normal', variant='normal', weight=400, stretch='normal', size='scalable')) = 10.05\n",
      "2023-04-27 04:21:01 ===> findfont: score(FontEntry(fname='/usr/local/lib/python3.9/dist-packages/matplotlib/mpl-data/fonts/ttf/DejaVuSansMono-Bold.ttf', name='DejaVu Sans Mono', style='normal', variant='normal', weight=700, stretch='normal', size='scalable')) = 10.335\n",
      "2023-04-27 04:21:01 ===> findfont: score(FontEntry(fname='/usr/local/lib/python3.9/dist-packages/matplotlib/mpl-data/fonts/ttf/DejaVuSansMono.ttf', name='DejaVu Sans Mono', style='normal', variant='normal', weight=400, stretch='normal', size='scalable')) = 10.05\n",
      "2023-04-27 04:21:01 ===> findfont: score(FontEntry(fname='/usr/local/lib/python3.9/dist-packages/matplotlib/mpl-data/fonts/ttf/STIXGeneralBol.ttf', name='STIXGeneral', style='normal', variant='normal', weight=700, stretch='normal', size='scalable')) = 10.335\n",
      "2023-04-27 04:21:01 ===> findfont: score(FontEntry(fname='/usr/local/lib/python3.9/dist-packages/matplotlib/mpl-data/fonts/ttf/DejaVuSans.ttf', name='DejaVu Sans', style='normal', variant='normal', weight=400, stretch='normal', size='scalable')) = 0.05\n",
      "2023-04-27 04:21:01 ===> findfont: score(FontEntry(fname='/usr/local/lib/python3.9/dist-packages/matplotlib/mpl-data/fonts/ttf/cmb10.ttf', name='cmb10', style='normal', variant='normal', weight=400, stretch='normal', size='scalable')) = 10.05\n",
      "2023-04-27 04:21:01 ===> findfont: score(FontEntry(fname='/usr/share/fonts/truetype/dejavu/DejaVuSansMono.ttf', name='DejaVu Sans Mono', style='normal', variant='normal', weight=400, stretch='normal', size='scalable')) = 10.05\n",
      "2023-04-27 04:21:01 ===> findfont: score(FontEntry(fname='/usr/share/fonts/truetype/dejavu/DejaVuSans.ttf', name='DejaVu Sans', style='normal', variant='normal', weight=400, stretch='normal', size='scalable')) = 0.05\n",
      "2023-04-27 04:21:01 ===> findfont: score(FontEntry(fname='/usr/share/fonts/truetype/dejavu/DejaVuSans-Bold.ttf', name='DejaVu Sans', style='normal', variant='normal', weight=700, stretch='normal', size='scalable')) = 0.33499999999999996\n",
      "2023-04-27 04:21:01 ===> findfont: score(FontEntry(fname='/usr/share/fonts/truetype/dejavu/DejaVuSerif-Bold.ttf', name='DejaVu Serif', style='normal', variant='normal', weight=700, stretch='normal', size='scalable')) = 10.335\n",
      "2023-04-27 04:21:01 ===> findfont: score(FontEntry(fname='/usr/share/fonts/truetype/dejavu/DejaVuSansMono-Bold.ttf', name='DejaVu Sans Mono', style='normal', variant='normal', weight=700, stretch='normal', size='scalable')) = 10.335\n",
      "2023-04-27 04:21:01 ===> findfont: score(FontEntry(fname='/usr/share/fonts/truetype/dejavu/DejaVuSerif.ttf', name='DejaVu Serif', style='normal', variant='normal', weight=400, stretch='normal', size='scalable')) = 10.05\n",
      "2023-04-27 04:21:01 ===> findfont: Matching sans\\-serif:style=normal:variant=normal:weight=normal:stretch=normal:size=10.0 to DejaVu Sans ('/usr/local/lib/python3.9/dist-packages/matplotlib/mpl-data/fonts/ttf/DejaVuSans.ttf') with score of 0.050000.\n",
      "2023-04-27 04:21:02 ===> Samples for train of 0= 5034\n",
      "2023-04-27 04:21:02 ===> Samples for train of 1= 5025\n",
      "2023-04-27 04:21:02 ===> Samples for train of 2= 4969\n",
      "2023-04-27 04:21:02 ===> Samples for train of 3= 4942\n",
      "2023-04-27 04:21:02 ===> Samples for train of 4= 4965\n",
      "2023-04-27 04:21:02 ===> Samples for train of 5= 4969\n",
      "2023-04-27 04:21:02 ===> Samples for train of 6= 4989\n",
      "2023-04-27 04:21:02 ===> Samples for train of 7= 4995\n",
      "2023-04-27 04:21:02 ===> Samples for train of 8= 5025\n",
      "2023-04-27 04:21:02 ===> Samples for train of 9= 5087\n"
     ]
    }
   ],
   "source": [
    "!python fedavg.py \\\n",
    "    --dataset cifar100 \\\n",
    "    --data_dist noniid \\\n",
    "    --K 10 \\\n",
    "    --local_epochs 10 \\\n",
    "    --epochs 50"
   ]
  },
  {
   "cell_type": "code",
   "execution_count": 24,
   "id": "ad9eb52f-ad13-45da-b86f-5c101c965f83",
   "metadata": {},
   "outputs": [
    {
     "name": "stdout",
     "output_type": "stream",
     "text": [
      "Collecting jupyterlab_tensorboard_pro\n",
      "  Downloading jupyterlab_tensorboard_pro-0.7.0-py2.py3-none-any.whl (521 kB)\n",
      "\u001b[2K     \u001b[90m━━━━━━━━━━━━━━━━━━━━━━━━━━━━━━━━━━━━━━\u001b[0m \u001b[32m521.2/521.2 kB\u001b[0m \u001b[31m43.1 MB/s\u001b[0m eta \u001b[36m0:00:00\u001b[0m\n",
      "\u001b[?25hRequirement already satisfied: jupyterlab in /usr/local/lib/python3.9/dist-packages (from jupyterlab_tensorboard_pro) (3.4.6)\n",
      "Requirement already satisfied: jupyter-server~=1.16 in /usr/local/lib/python3.9/dist-packages (from jupyterlab->jupyterlab_tensorboard_pro) (1.23.5)\n",
      "Requirement already satisfied: ipython in /usr/local/lib/python3.9/dist-packages (from jupyterlab->jupyterlab_tensorboard_pro) (8.5.0)\n",
      "Requirement already satisfied: jupyter-core in /usr/local/lib/python3.9/dist-packages (from jupyterlab->jupyterlab_tensorboard_pro) (5.1.5)\n",
      "Requirement already satisfied: jupyterlab-server~=2.10 in /usr/local/lib/python3.9/dist-packages (from jupyterlab->jupyterlab_tensorboard_pro) (2.19.0)\n",
      "Requirement already satisfied: notebook<7 in /usr/local/lib/python3.9/dist-packages (from jupyterlab->jupyterlab_tensorboard_pro) (6.5.2)\n",
      "Requirement already satisfied: packaging in /usr/local/lib/python3.9/dist-packages (from jupyterlab->jupyterlab_tensorboard_pro) (23.0)\n",
      "Requirement already satisfied: jinja2>=2.1 in /usr/local/lib/python3.9/dist-packages (from jupyterlab->jupyterlab_tensorboard_pro) (3.1.2)\n",
      "Requirement already satisfied: tornado>=6.1.0 in /usr/local/lib/python3.9/dist-packages (from jupyterlab->jupyterlab_tensorboard_pro) (6.1)\n",
      "Requirement already satisfied: nbclassic in /usr/local/lib/python3.9/dist-packages (from jupyterlab->jupyterlab_tensorboard_pro) (0.4.8)\n",
      "Requirement already satisfied: MarkupSafe>=2.0 in /usr/local/lib/python3.9/dist-packages (from jinja2>=2.1->jupyterlab->jupyterlab_tensorboard_pro) (2.1.2)\n",
      "Requirement already satisfied: Send2Trash in /usr/local/lib/python3.9/dist-packages (from jupyter-server~=1.16->jupyterlab->jupyterlab_tensorboard_pro) (1.8.0)\n",
      "Requirement already satisfied: websocket-client in /usr/local/lib/python3.9/dist-packages (from jupyter-server~=1.16->jupyterlab->jupyterlab_tensorboard_pro) (0.57.0)\n",
      "Requirement already satisfied: nbconvert>=6.4.4 in /usr/local/lib/python3.9/dist-packages (from jupyter-server~=1.16->jupyterlab->jupyterlab_tensorboard_pro) (7.2.9)\n",
      "Requirement already satisfied: pyzmq>=17 in /usr/local/lib/python3.9/dist-packages (from jupyter-server~=1.16->jupyterlab->jupyterlab_tensorboard_pro) (25.0.0)\n",
      "Requirement already satisfied: nbformat>=5.2.0 in /usr/local/lib/python3.9/dist-packages (from jupyter-server~=1.16->jupyterlab->jupyterlab_tensorboard_pro) (5.7.3)\n",
      "Requirement already satisfied: prometheus-client in /usr/local/lib/python3.9/dist-packages (from jupyter-server~=1.16->jupyterlab->jupyterlab_tensorboard_pro) (0.9.0)\n",
      "Requirement already satisfied: anyio<4,>=3.1.0 in /usr/local/lib/python3.9/dist-packages (from jupyter-server~=1.16->jupyterlab->jupyterlab_tensorboard_pro) (3.6.2)\n",
      "Requirement already satisfied: traitlets>=5.1 in /usr/local/lib/python3.9/dist-packages (from jupyter-server~=1.16->jupyterlab->jupyterlab_tensorboard_pro) (5.8.1)\n",
      "Requirement already satisfied: argon2-cffi in /usr/local/lib/python3.9/dist-packages (from jupyter-server~=1.16->jupyterlab->jupyterlab_tensorboard_pro) (21.3.0)\n",
      "Requirement already satisfied: jupyter-client>=6.1.12 in /usr/local/lib/python3.9/dist-packages (from jupyter-server~=1.16->jupyterlab->jupyterlab_tensorboard_pro) (7.3.4)\n",
      "Requirement already satisfied: terminado>=0.8.3 in /usr/local/lib/python3.9/dist-packages (from jupyter-server~=1.16->jupyterlab->jupyterlab_tensorboard_pro) (0.17.1)\n",
      "Requirement already satisfied: platformdirs>=2.5 in /usr/local/lib/python3.9/dist-packages (from jupyter-core->jupyterlab->jupyterlab_tensorboard_pro) (2.6.2)\n",
      "Requirement already satisfied: babel>=2.10 in /usr/local/lib/python3.9/dist-packages (from jupyterlab-server~=2.10->jupyterlab->jupyterlab_tensorboard_pro) (2.11.0)\n",
      "Requirement already satisfied: importlib-metadata>=4.8.3 in /usr/local/lib/python3.9/dist-packages (from jupyterlab-server~=2.10->jupyterlab->jupyterlab_tensorboard_pro) (6.0.0)\n",
      "Requirement already satisfied: json5>=0.9.0 in /usr/local/lib/python3.9/dist-packages (from jupyterlab-server~=2.10->jupyterlab->jupyterlab_tensorboard_pro) (0.9.11)\n",
      "Requirement already satisfied: requests>=2.28 in /usr/local/lib/python3.9/dist-packages (from jupyterlab-server~=2.10->jupyterlab->jupyterlab_tensorboard_pro) (2.28.2)\n",
      "Requirement already satisfied: jsonschema>=4.17.3 in /usr/local/lib/python3.9/dist-packages (from jupyterlab-server~=2.10->jupyterlab->jupyterlab_tensorboard_pro) (4.17.3)\n",
      "Requirement already satisfied: ipython-genutils in /usr/local/lib/python3.9/dist-packages (from notebook<7->jupyterlab->jupyterlab_tensorboard_pro) (0.2.0)\n",
      "Requirement already satisfied: ipykernel in /usr/local/lib/python3.9/dist-packages (from notebook<7->jupyterlab->jupyterlab_tensorboard_pro) (6.16.0)\n",
      "Requirement already satisfied: nest-asyncio>=1.5 in /usr/local/lib/python3.9/dist-packages (from notebook<7->jupyterlab->jupyterlab_tensorboard_pro) (1.5.6)\n",
      "Requirement already satisfied: notebook-shim>=0.1.0 in /usr/local/lib/python3.9/dist-packages (from nbclassic->jupyterlab->jupyterlab_tensorboard_pro) (0.2.2)\n",
      "Requirement already satisfied: prompt-toolkit<3.1.0,>3.0.1 in /usr/local/lib/python3.9/dist-packages (from ipython->jupyterlab->jupyterlab_tensorboard_pro) (3.0.36)\n",
      "Requirement already satisfied: pickleshare in /usr/local/lib/python3.9/dist-packages (from ipython->jupyterlab->jupyterlab_tensorboard_pro) (0.7.5)\n",
      "Requirement already satisfied: stack-data in /usr/local/lib/python3.9/dist-packages (from ipython->jupyterlab->jupyterlab_tensorboard_pro) (0.6.2)\n",
      "Requirement already satisfied: decorator in /usr/local/lib/python3.9/dist-packages (from ipython->jupyterlab->jupyterlab_tensorboard_pro) (5.1.1)\n",
      "Requirement already satisfied: pygments>=2.4.0 in /usr/local/lib/python3.9/dist-packages (from ipython->jupyterlab->jupyterlab_tensorboard_pro) (2.14.0)\n",
      "Requirement already satisfied: jedi>=0.16 in /usr/local/lib/python3.9/dist-packages (from ipython->jupyterlab->jupyterlab_tensorboard_pro) (0.18.2)\n",
      "Requirement already satisfied: pexpect>4.3 in /usr/local/lib/python3.9/dist-packages (from ipython->jupyterlab->jupyterlab_tensorboard_pro) (4.8.0)\n",
      "Requirement already satisfied: backcall in /usr/local/lib/python3.9/dist-packages (from ipython->jupyterlab->jupyterlab_tensorboard_pro) (0.2.0)\n",
      "Requirement already satisfied: matplotlib-inline in /usr/local/lib/python3.9/dist-packages (from ipython->jupyterlab->jupyterlab_tensorboard_pro) (0.1.6)\n",
      "Requirement already satisfied: sniffio>=1.1 in /usr/local/lib/python3.9/dist-packages (from anyio<4,>=3.1.0->jupyter-server~=1.16->jupyterlab->jupyterlab_tensorboard_pro) (1.3.0)\n",
      "Requirement already satisfied: idna>=2.8 in /usr/lib/python3/dist-packages (from anyio<4,>=3.1.0->jupyter-server~=1.16->jupyterlab->jupyterlab_tensorboard_pro) (2.8)\n",
      "Requirement already satisfied: pytz>=2015.7 in /usr/local/lib/python3.9/dist-packages (from babel>=2.10->jupyterlab-server~=2.10->jupyterlab->jupyterlab_tensorboard_pro) (2022.7.1)\n",
      "Requirement already satisfied: zipp>=0.5 in /usr/local/lib/python3.9/dist-packages (from importlib-metadata>=4.8.3->jupyterlab-server~=2.10->jupyterlab->jupyterlab_tensorboard_pro) (3.11.0)\n",
      "Requirement already satisfied: parso<0.9.0,>=0.8.0 in /usr/local/lib/python3.9/dist-packages (from jedi>=0.16->ipython->jupyterlab->jupyterlab_tensorboard_pro) (0.8.3)\n",
      "Requirement already satisfied: pyrsistent!=0.17.0,!=0.17.1,!=0.17.2,>=0.14.0 in /usr/local/lib/python3.9/dist-packages (from jsonschema>=4.17.3->jupyterlab-server~=2.10->jupyterlab->jupyterlab_tensorboard_pro) (0.19.3)\n",
      "Requirement already satisfied: attrs>=17.4.0 in /usr/local/lib/python3.9/dist-packages (from jsonschema>=4.17.3->jupyterlab-server~=2.10->jupyterlab->jupyterlab_tensorboard_pro) (18.2.0)\n",
      "Requirement already satisfied: python-dateutil>=2.8.2 in /usr/local/lib/python3.9/dist-packages (from jupyter-client>=6.1.12->jupyter-server~=1.16->jupyterlab->jupyterlab_tensorboard_pro) (2.8.2)\n",
      "Requirement already satisfied: entrypoints in /usr/local/lib/python3.9/dist-packages (from jupyter-client>=6.1.12->jupyter-server~=1.16->jupyterlab->jupyterlab_tensorboard_pro) (0.4)\n",
      "Requirement already satisfied: pandocfilters>=1.4.1 in /usr/local/lib/python3.9/dist-packages (from nbconvert>=6.4.4->jupyter-server~=1.16->jupyterlab->jupyterlab_tensorboard_pro) (1.5.0)\n",
      "Requirement already satisfied: mistune<3,>=2.0.3 in /usr/local/lib/python3.9/dist-packages (from nbconvert>=6.4.4->jupyter-server~=1.16->jupyterlab->jupyterlab_tensorboard_pro) (2.0.4)\n",
      "Requirement already satisfied: tinycss2 in /usr/local/lib/python3.9/dist-packages (from nbconvert>=6.4.4->jupyter-server~=1.16->jupyterlab->jupyterlab_tensorboard_pro) (1.2.1)\n",
      "Requirement already satisfied: bleach in /usr/local/lib/python3.9/dist-packages (from nbconvert>=6.4.4->jupyter-server~=1.16->jupyterlab->jupyterlab_tensorboard_pro) (6.0.0)\n",
      "Requirement already satisfied: jupyterlab-pygments in /usr/local/lib/python3.9/dist-packages (from nbconvert>=6.4.4->jupyter-server~=1.16->jupyterlab->jupyterlab_tensorboard_pro) (0.2.2)\n",
      "Requirement already satisfied: nbclient>=0.5.0 in /usr/local/lib/python3.9/dist-packages (from nbconvert>=6.4.4->jupyter-server~=1.16->jupyterlab->jupyterlab_tensorboard_pro) (0.7.2)\n",
      "Requirement already satisfied: defusedxml in /usr/local/lib/python3.9/dist-packages (from nbconvert>=6.4.4->jupyter-server~=1.16->jupyterlab->jupyterlab_tensorboard_pro) (0.7.1)\n",
      "Requirement already satisfied: beautifulsoup4 in /usr/local/lib/python3.9/dist-packages (from nbconvert>=6.4.4->jupyter-server~=1.16->jupyterlab->jupyterlab_tensorboard_pro) (4.11.1)\n",
      "Requirement already satisfied: fastjsonschema in /usr/local/lib/python3.9/dist-packages (from nbformat>=5.2.0->jupyter-server~=1.16->jupyterlab->jupyterlab_tensorboard_pro) (2.16.2)\n",
      "Requirement already satisfied: ptyprocess>=0.5 in /usr/local/lib/python3.9/dist-packages (from pexpect>4.3->ipython->jupyterlab->jupyterlab_tensorboard_pro) (0.7.0)\n",
      "Requirement already satisfied: wcwidth in /usr/local/lib/python3.9/dist-packages (from prompt-toolkit<3.1.0,>3.0.1->ipython->jupyterlab->jupyterlab_tensorboard_pro) (0.2.6)\n",
      "Requirement already satisfied: charset-normalizer<4,>=2 in /usr/local/lib/python3.9/dist-packages (from requests>=2.28->jupyterlab-server~=2.10->jupyterlab->jupyterlab_tensorboard_pro) (2.1.1)\n",
      "Requirement already satisfied: urllib3<1.27,>=1.21.1 in /usr/local/lib/python3.9/dist-packages (from requests>=2.28->jupyterlab-server~=2.10->jupyterlab->jupyterlab_tensorboard_pro) (1.26.14)\n",
      "Requirement already satisfied: certifi>=2017.4.17 in /usr/lib/python3/dist-packages (from requests>=2.28->jupyterlab-server~=2.10->jupyterlab->jupyterlab_tensorboard_pro) (2019.11.28)\n",
      "Requirement already satisfied: argon2-cffi-bindings in /usr/local/lib/python3.9/dist-packages (from argon2-cffi->jupyter-server~=1.16->jupyterlab->jupyterlab_tensorboard_pro) (21.2.0)\n",
      "Requirement already satisfied: debugpy>=1.0 in /usr/local/lib/python3.9/dist-packages (from ipykernel->notebook<7->jupyterlab->jupyterlab_tensorboard_pro) (1.6.6)\n",
      "Requirement already satisfied: psutil in /usr/local/lib/python3.9/dist-packages (from ipykernel->notebook<7->jupyterlab->jupyterlab_tensorboard_pro) (5.9.4)\n",
      "Requirement already satisfied: asttokens>=2.1.0 in /usr/local/lib/python3.9/dist-packages (from stack-data->ipython->jupyterlab->jupyterlab_tensorboard_pro) (2.2.1)\n",
      "Requirement already satisfied: pure-eval in /usr/local/lib/python3.9/dist-packages (from stack-data->ipython->jupyterlab->jupyterlab_tensorboard_pro) (0.2.2)\n",
      "Requirement already satisfied: executing>=1.2.0 in /usr/local/lib/python3.9/dist-packages (from stack-data->ipython->jupyterlab->jupyterlab_tensorboard_pro) (1.2.0)\n",
      "Requirement already satisfied: six in /usr/lib/python3/dist-packages (from websocket-client->jupyter-server~=1.16->jupyterlab->jupyterlab_tensorboard_pro) (1.14.0)\n",
      "Requirement already satisfied: cffi>=1.0.1 in /usr/local/lib/python3.9/dist-packages (from argon2-cffi-bindings->argon2-cffi->jupyter-server~=1.16->jupyterlab->jupyterlab_tensorboard_pro) (1.15.1)\n",
      "Requirement already satisfied: soupsieve>1.2 in /usr/local/lib/python3.9/dist-packages (from beautifulsoup4->nbconvert>=6.4.4->jupyter-server~=1.16->jupyterlab->jupyterlab_tensorboard_pro) (2.3.2.post1)\n",
      "Requirement already satisfied: webencodings in /usr/local/lib/python3.9/dist-packages (from bleach->nbconvert>=6.4.4->jupyter-server~=1.16->jupyterlab->jupyterlab_tensorboard_pro) (0.5.1)\n",
      "Requirement already satisfied: pycparser in /usr/local/lib/python3.9/dist-packages (from cffi>=1.0.1->argon2-cffi-bindings->argon2-cffi->jupyter-server~=1.16->jupyterlab->jupyterlab_tensorboard_pro) (2.21)\n",
      "Installing collected packages: jupyterlab_tensorboard_pro\n",
      "Successfully installed jupyterlab_tensorboard_pro-0.7.0\n",
      "\u001b[33mWARNING: Running pip as the 'root' user can result in broken permissions and conflicting behaviour with the system package manager. It is recommended to use a virtual environment instead: https://pip.pypa.io/warnings/venv\u001b[0m\u001b[33m\n",
      "\u001b[0m"
     ]
    }
   ],
   "source": [
    "!pip install jupyterlab_tensorboard_pro"
   ]
  },
  {
   "cell_type": "code",
   "execution_count": null,
   "id": "89884214-b93f-4dbc-83f7-55ce7e9077f8",
   "metadata": {},
   "outputs": [],
   "source": []
  }
 ],
 "metadata": {
  "kernelspec": {
   "display_name": "Python 3 (ipykernel)",
   "language": "python",
   "name": "python3"
  },
  "language_info": {
   "codemirror_mode": {
    "name": "ipython",
    "version": 3
   },
   "file_extension": ".py",
   "mimetype": "text/x-python",
   "name": "python",
   "nbconvert_exporter": "python",
   "pygments_lexer": "ipython3",
   "version": "3.9.16"
  }
 },
 "nbformat": 4,
 "nbformat_minor": 5
}
