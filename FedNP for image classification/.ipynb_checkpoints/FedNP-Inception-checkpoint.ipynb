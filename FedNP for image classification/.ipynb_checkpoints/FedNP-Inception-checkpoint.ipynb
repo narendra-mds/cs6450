{
 "cells": [
  {
   "cell_type": "code",
   "execution_count": 23,
   "id": "eacfb4e7-4bb4-4bfb-9ec8-041e309b6882",
   "metadata": {},
   "outputs": [
    {
     "data": {
      "text/plain": [
       "'3.9.16'"
      ]
     },
     "execution_count": 23,
     "metadata": {},
     "output_type": "execute_result"
    }
   ],
   "source": [
    "from platform import python_version\n",
    "python_version()"
   ]
  },
  {
   "cell_type": "code",
   "execution_count": 2,
   "id": "d3d24614-bd05-4518-a8bf-610a7d94bc29",
   "metadata": {},
   "outputs": [
    {
     "name": "stdout",
     "output_type": "stream",
     "text": [
      "3.9.16 (main, Dec  7 2022, 01:11:51) \n",
      "[GCC 9.4.0]\n"
     ]
    }
   ],
   "source": [
    "import sys\n",
    "print(sys.version)"
   ]
  },
  {
   "cell_type": "code",
   "execution_count": 3,
   "id": "c52874be-99b5-4451-981e-a772f3adffc8",
   "metadata": {},
   "outputs": [
    {
     "data": {
      "text/plain": [
       "'/notebooks/FedNP for image classification'"
      ]
     },
     "execution_count": 3,
     "metadata": {},
     "output_type": "execute_result"
    }
   ],
   "source": [
    "import os\n",
    "os.getcwd()"
   ]
  },
  {
   "cell_type": "code",
   "execution_count": 1,
   "id": "3e447f8e-5d0a-4a5f-bdf1-1eb897302ebf",
   "metadata": {},
   "outputs": [],
   "source": [
    "from torchvision.models import densenet121, resnet18"
   ]
  },
  {
   "cell_type": "code",
   "execution_count": 4,
   "id": "b7bea081-14f6-48a8-b019-49cc30f83611",
   "metadata": {},
   "outputs": [],
   "source": [
    "from models.inception import InceptionNet\n",
    "from models.resnet import ResNet18"
   ]
  },
  {
   "cell_type": "code",
   "execution_count": 6,
   "id": "742c6af7-155c-40be-ba1f-7f5f9170a728",
   "metadata": {},
   "outputs": [
    {
     "data": {
      "text/plain": [
       "2560"
      ]
     },
     "execution_count": 6,
     "metadata": {},
     "output_type": "execute_result"
    }
   ],
   "source": [
    "r=InceptionNet(10)\n",
    "r.linear.weight.numel()"
   ]
  },
  {
   "cell_type": "code",
   "execution_count": 4,
   "id": "798aa157-b44a-48b3-8c6a-4f56008ccfc7",
   "metadata": {},
   "outputs": [],
   "source": [
    "os.chdir('/notebooks/FedNP for image classification/')"
   ]
  },
  {
   "cell_type": "code",
   "execution_count": 21,
   "id": "2392332a-75cb-4c4a-9841-5dc030333760",
   "metadata": {},
   "outputs": [
    {
     "name": "stderr",
     "output_type": "stream",
     "text": [
      "Downloading: \"https://github.com/lukemelas/EfficientNet-PyTorch/releases/download/1.0/efficientnet-b0-355c32eb.pth\" to /root/.cache/torch/hub/checkpoints/efficientnet-b0-355c32eb.pth\n"
     ]
    },
    {
     "data": {
      "application/vnd.jupyter.widget-view+json": {
       "model_id": "d73d59126988476aa65c9d8f205fde4a",
       "version_major": 2,
       "version_minor": 0
      },
      "text/plain": [
       "  0%|          | 0.00/20.4M [00:00<?, ?B/s]"
      ]
     },
     "metadata": {},
     "output_type": "display_data"
    },
    {
     "name": "stdout",
     "output_type": "stream",
     "text": [
      "Loaded pretrained weights for efficientnet-b0\n"
     ]
    }
   ],
   "source": [
    "from efficientnet_pytorch import EfficientNet\n",
    "model = EfficientNet.from_pretrained('efficientnet-b0')"
   ]
  },
  {
   "cell_type": "code",
   "execution_count": null,
   "id": "bffd4dc9-1216-4048-9730-f47afbe7072e",
   "metadata": {
    "tags": []
   },
   "outputs": [
    {
     "name": "stdout",
     "output_type": "stream",
     "text": [
      "GPU ready!\n",
      "2023-04-28 13:09:14 ===> --------------------------------------This is all argsurations----------------------------------\n",
      "2023-04-28 13:09:14 ===> user=Narendra\n",
      "2023-04-28 13:09:14 ===> experiment=Inception\n",
      "2023-04-28 13:09:14 ===> date=2023-04-28-13:09:14\n",
      "2023-04-28 13:09:14 ===> description=non-iid\n",
      "2023-04-28 13:09:14 ===> root=path to training set\n",
      "2023-04-28 13:09:14 ===> dataset=cifar100\n",
      "2023-04-28 13:09:14 ===> data_dist=noniid\n",
      "2023-04-28 13:09:14 ===> num_workers=4\n",
      "2023-04-28 13:09:14 ===> lr=0.01\n",
      "2023-04-28 13:09:14 ===> K=10\n",
      "2023-04-28 13:09:14 ===> wd=1e-05\n",
      "2023-04-28 13:09:14 ===> mu=0.01\n",
      "2023-04-28 13:09:14 ===> epochs=50\n",
      "2023-04-28 13:09:14 ===> local_epochs=10\n",
      "2023-04-28 13:09:14 ===> seed=0\n",
      "2023-04-28 13:09:14 ===> batch_size=128\n",
      "2023-04-28 13:09:14 ===> save_freq=50\n",
      "2023-04-28 13:09:14 ===> beta=0.5\n",
      "2023-04-28 13:09:14 ===> ----------------------------------------This is a halvingline----------------------------------\n",
      "2023-04-28 13:09:14 ===> non-iid\n",
      "Files already downloaded and verified\n",
      "Files already downloaded and verified\n"
     ]
    }
   ],
   "source": [
    "!python fednp_inception.py \\\n",
    "    --user Narendra \\\n",
    "    --dataset cifar100 \\\n",
    "    --data_dist noniid \\\n",
    "    --K 10 \\\n",
    "    --local_epochs 10 \\\n",
    "    --epochs 50"
   ]
  },
  {
   "cell_type": "code",
   "execution_count": 8,
   "id": "d424a093-6486-478b-8830-3ec9723a324b",
   "metadata": {},
   "outputs": [
    {
     "name": "stdout",
     "output_type": "stream",
     "text": [
      "Collecting tensorboardX\n",
      "  Downloading tensorboardX-2.6-py2.py3-none-any.whl (114 kB)\n",
      "\u001b[2K     \u001b[90m━━━━━━━━━━━━━━━━━━━━━━━━━━━━━━━━━━━━━━\u001b[0m \u001b[32m114.5/114.5 kB\u001b[0m \u001b[31m25.7 MB/s\u001b[0m eta \u001b[36m0:00:00\u001b[0m\n",
      "\u001b[?25hRequirement already satisfied: protobuf<4,>=3.8.0 in /usr/local/lib/python3.9/dist-packages (from tensorboardX) (3.19.6)\n",
      "Requirement already satisfied: numpy in /usr/local/lib/python3.9/dist-packages (from tensorboardX) (1.23.4)\n",
      "Requirement already satisfied: packaging in /usr/local/lib/python3.9/dist-packages (from tensorboardX) (23.0)\n",
      "Installing collected packages: tensorboardX\n",
      "Successfully installed tensorboardX-2.6\n",
      "\u001b[33mWARNING: Running pip as the 'root' user can result in broken permissions and conflicting behaviour with the system package manager. It is recommended to use a virtual environment instead: https://pip.pypa.io/warnings/venv\u001b[0m\u001b[33m\n",
      "\u001b[0m"
     ]
    }
   ],
   "source": [
    "!python -m pip install tensorboardX"
   ]
  },
  {
   "cell_type": "code",
   "execution_count": 7,
   "id": "22c9abba-b2c8-4984-bdc7-5baa83205b33",
   "metadata": {},
   "outputs": [],
   "source": [
    "import numpy"
   ]
  },
  {
   "cell_type": "code",
   "execution_count": 2,
   "id": "f4429641-7f23-41bb-ad3f-c1c8d462a3f3",
   "metadata": {},
   "outputs": [],
   "source": [
    "import subprocess\n",
    "import sys\n",
    "\n",
    "def install(package):\n",
    "    subprocess.check_call([sys.executable, \"-m\", \"pip\", \"install\", package])"
   ]
  },
  {
   "cell_type": "code",
   "execution_count": 3,
   "id": "88962215-6e8e-4acc-9e85-3909c64e6676",
   "metadata": {},
   "outputs": [
    {
     "name": "stdout",
     "output_type": "stream",
     "text": [
      "Requirement already satisfied: numpy in /root/.pyenv/versions/3.7.10/lib/python3.7/site-packages (1.21.6)\n"
     ]
    },
    {
     "name": "stderr",
     "output_type": "stream",
     "text": [
      "WARNING: Running pip as the 'root' user can result in broken permissions and conflicting behaviour with the system package manager. It is recommended to use a virtual environment instead: https://pip.pypa.io/warnings/venv\n"
     ]
    }
   ],
   "source": [
    "install('numpy')"
   ]
  },
  {
   "cell_type": "code",
   "execution_count": null,
   "id": "feca7fc7-34b2-4948-8e45-57ef86d17167",
   "metadata": {},
   "outputs": [],
   "source": []
  }
 ],
 "metadata": {
  "kernelspec": {
   "display_name": "Python 3 (ipykernel)",
   "language": "python",
   "name": "python3"
  },
  "language_info": {
   "codemirror_mode": {
    "name": "ipython",
    "version": 3
   },
   "file_extension": ".py",
   "mimetype": "text/x-python",
   "name": "python",
   "nbconvert_exporter": "python",
   "pygments_lexer": "ipython3",
   "version": "3.9.16"
  }
 },
 "nbformat": 4,
 "nbformat_minor": 5
}
