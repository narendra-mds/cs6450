{
 "cells": [
  {
   "cell_type": "code",
   "execution_count": 1,
   "id": "eacfb4e7-4bb4-4bfb-9ec8-041e309b6882",
   "metadata": {},
   "outputs": [
    {
     "data": {
      "text/plain": [
       "'3.9.16'"
      ]
     },
     "execution_count": 1,
     "metadata": {},
     "output_type": "execute_result"
    }
   ],
   "source": [
    "from platform import python_version\n",
    "python_version()"
   ]
  },
  {
   "cell_type": "code",
   "execution_count": 2,
   "id": "d3d24614-bd05-4518-a8bf-610a7d94bc29",
   "metadata": {},
   "outputs": [
    {
     "name": "stdout",
     "output_type": "stream",
     "text": [
      "3.9.16 (main, Dec  7 2022, 01:11:51) \n",
      "[GCC 9.4.0]\n"
     ]
    }
   ],
   "source": [
    "import sys\n",
    "print(sys.version)"
   ]
  },
  {
   "cell_type": "code",
   "execution_count": 3,
   "id": "c52874be-99b5-4451-981e-a772f3adffc8",
   "metadata": {},
   "outputs": [
    {
     "data": {
      "text/plain": [
       "'/notebooks/FedNP for image classification'"
      ]
     },
     "execution_count": 3,
     "metadata": {},
     "output_type": "execute_result"
    }
   ],
   "source": [
    "import os\n",
    "os.getcwd()"
   ]
  },
  {
   "cell_type": "code",
   "execution_count": 4,
   "id": "798aa157-b44a-48b3-8c6a-4f56008ccfc7",
   "metadata": {},
   "outputs": [],
   "source": [
    "os.chdir('/notebooks/FedNP for image classification/')"
   ]
  },
  {
   "cell_type": "code",
   "execution_count": null,
   "id": "bffd4dc9-1216-4048-9730-f47afbe7072e",
   "metadata": {
    "tags": []
   },
   "outputs": [
    {
     "name": "stdout",
     "output_type": "stream",
     "text": [
      "GPU ready!\n",
      "2023-04-28 05:05:52 ===> --------------------------------------This is all argsurations----------------------------------\n",
      "2023-04-28 05:05:52 ===> user=Dylon\n",
      "2023-04-28 05:05:52 ===> experiment=NP\n",
      "2023-04-28 05:05:52 ===> date=2023-04-28-05:05:52\n",
      "2023-04-28 05:05:52 ===> description=non-iid\n",
      "2023-04-28 05:05:52 ===> root=path to training set\n",
      "2023-04-28 05:05:52 ===> dataset=cifar100\n",
      "2023-04-28 05:05:52 ===> data_dist=noniid\n",
      "2023-04-28 05:05:52 ===> num_workers=4\n",
      "2023-04-28 05:05:52 ===> lr=0.01\n",
      "2023-04-28 05:05:52 ===> K=10\n",
      "2023-04-28 05:05:52 ===> wd=1e-05\n",
      "2023-04-28 05:05:52 ===> mu=0.01\n",
      "2023-04-28 05:05:52 ===> epochs=50\n",
      "2023-04-28 05:05:52 ===> local_epochs=10\n",
      "2023-04-28 05:05:52 ===> seed=0\n",
      "2023-04-28 05:05:52 ===> batch_size=128\n",
      "2023-04-28 05:05:52 ===> save_freq=50\n",
      "2023-04-28 05:05:52 ===> beta=0.5\n",
      "2023-04-28 05:05:52 ===> ----------------------------------------This is a halvingline----------------------------------\n",
      "2023-04-28 05:05:52 ===> non-iid\n",
      "Files already downloaded and verified\n",
      "Files already downloaded and verified\n",
      "2023-04-28 05:05:56 ===> Loaded backend module://matplotlib_inline.backend_inline version unknown.\n",
      "2023-04-28 05:05:56 ===> findfont: Matching sans\\-serif:style=normal:variant=normal:weight=normal:stretch=normal:size=10.0.\n",
      "2023-04-28 05:05:56 ===> findfont: score(FontEntry(fname='/usr/local/lib/python3.9/dist-packages/matplotlib/mpl-data/fonts/ttf/DejaVuSansMono.ttf', name='DejaVu Sans Mono', style='normal', variant='normal', weight=400, stretch='normal', size='scalable')) = 10.05\n",
      "2023-04-28 05:05:56 ===> findfont: score(FontEntry(fname='/usr/local/lib/python3.9/dist-packages/matplotlib/mpl-data/fonts/ttf/STIXSizTwoSymReg.ttf', name='STIXSizeTwoSym', style='normal', variant='normal', weight=400, stretch='normal', size='scalable')) = 10.05\n",
      "2023-04-28 05:05:56 ===> findfont: score(FontEntry(fname='/usr/local/lib/python3.9/dist-packages/matplotlib/mpl-data/fonts/ttf/DejaVuSerif-Bold.ttf', name='DejaVu Serif', style='normal', variant='normal', weight=700, stretch='normal', size='scalable')) = 10.335\n",
      "2023-04-28 05:05:56 ===> findfont: score(FontEntry(fname='/usr/local/lib/python3.9/dist-packages/matplotlib/mpl-data/fonts/ttf/STIXSizOneSymBol.ttf', name='STIXSizeOneSym', style='normal', variant='normal', weight=700, stretch='normal', size='scalable')) = 10.335\n",
      "2023-04-28 05:05:56 ===> findfont: score(FontEntry(fname='/usr/local/lib/python3.9/dist-packages/matplotlib/mpl-data/fonts/ttf/DejaVuSans-Bold.ttf', name='DejaVu Sans', style='normal', variant='normal', weight=700, stretch='normal', size='scalable')) = 0.33499999999999996\n",
      "2023-04-28 05:05:56 ===> findfont: score(FontEntry(fname='/usr/local/lib/python3.9/dist-packages/matplotlib/mpl-data/fonts/ttf/DejaVuSerif-Italic.ttf', name='DejaVu Serif', style='italic', variant='normal', weight=400, stretch='normal', size='scalable')) = 11.05\n",
      "2023-04-28 05:05:56 ===> findfont: score(FontEntry(fname='/usr/local/lib/python3.9/dist-packages/matplotlib/mpl-data/fonts/ttf/cmsy10.ttf', name='cmsy10', style='normal', variant='normal', weight=400, stretch='normal', size='scalable')) = 10.05\n",
      "2023-04-28 05:05:56 ===> findfont: score(FontEntry(fname='/usr/local/lib/python3.9/dist-packages/matplotlib/mpl-data/fonts/ttf/DejaVuSerifDisplay.ttf', name='DejaVu Serif Display', style='normal', variant='normal', weight=400, stretch='normal', size='scalable')) = 10.05\n",
      "2023-04-28 05:05:56 ===> findfont: score(FontEntry(fname='/usr/local/lib/python3.9/dist-packages/matplotlib/mpl-data/fonts/ttf/STIXSizOneSymReg.ttf', name='STIXSizeOneSym', style='normal', variant='normal', weight=400, stretch='normal', size='scalable')) = 10.05\n",
      "2023-04-28 05:05:56 ===> findfont: score(FontEntry(fname='/usr/local/lib/python3.9/dist-packages/matplotlib/mpl-data/fonts/ttf/cmss10.ttf', name='cmss10', style='normal', variant='normal', weight=400, stretch='normal', size='scalable')) = 10.05\n",
      "2023-04-28 05:05:56 ===> findfont: score(FontEntry(fname='/usr/local/lib/python3.9/dist-packages/matplotlib/mpl-data/fonts/ttf/DejaVuSansDisplay.ttf', name='DejaVu Sans Display', style='normal', variant='normal', weight=400, stretch='normal', size='scalable')) = 10.05\n",
      "2023-04-28 05:05:56 ===> findfont: score(FontEntry(fname='/usr/local/lib/python3.9/dist-packages/matplotlib/mpl-data/fonts/ttf/STIXSizFiveSymReg.ttf', name='STIXSizeFiveSym', style='normal', variant='normal', weight=400, stretch='normal', size='scalable')) = 10.05\n",
      "2023-04-28 05:05:56 ===> findfont: score(FontEntry(fname='/usr/local/lib/python3.9/dist-packages/matplotlib/mpl-data/fonts/ttf/DejaVuSansMono-BoldOblique.ttf', name='DejaVu Sans Mono', style='oblique', variant='normal', weight=700, stretch='normal', size='scalable')) = 11.335\n",
      "2023-04-28 05:05:56 ===> findfont: score(FontEntry(fname='/usr/local/lib/python3.9/dist-packages/matplotlib/mpl-data/fonts/ttf/STIXNonUni.ttf', name='STIXNonUnicode', style='normal', variant='normal', weight=400, stretch='normal', size='scalable')) = 10.05\n",
      "2023-04-28 05:05:56 ===> findfont: score(FontEntry(fname='/usr/local/lib/python3.9/dist-packages/matplotlib/mpl-data/fonts/ttf/STIXGeneral.ttf', name='STIXGeneral', style='normal', variant='normal', weight=400, stretch='normal', size='scalable')) = 10.05\n",
      "2023-04-28 05:05:56 ===> findfont: score(FontEntry(fname='/usr/local/lib/python3.9/dist-packages/matplotlib/mpl-data/fonts/ttf/STIXNonUniBolIta.ttf', name='STIXNonUnicode', style='italic', variant='normal', weight=700, stretch='normal', size='scalable')) = 11.335\n",
      "2023-04-28 05:05:56 ===> findfont: score(FontEntry(fname='/usr/local/lib/python3.9/dist-packages/matplotlib/mpl-data/fonts/ttf/cmb10.ttf', name='cmb10', style='normal', variant='normal', weight=400, stretch='normal', size='scalable')) = 10.05\n",
      "2023-04-28 05:05:56 ===> findfont: score(FontEntry(fname='/usr/local/lib/python3.9/dist-packages/matplotlib/mpl-data/fonts/ttf/STIXSizFourSymReg.ttf', name='STIXSizeFourSym', style='normal', variant='normal', weight=400, stretch='normal', size='scalable')) = 10.05\n",
      "2023-04-28 05:05:56 ===> findfont: score(FontEntry(fname='/usr/local/lib/python3.9/dist-packages/matplotlib/mpl-data/fonts/ttf/STIXSizThreeSymReg.ttf', name='STIXSizeThreeSym', style='normal', variant='normal', weight=400, stretch='normal', size='scalable')) = 10.05\n",
      "2023-04-28 05:05:56 ===> findfont: score(FontEntry(fname='/usr/local/lib/python3.9/dist-packages/matplotlib/mpl-data/fonts/ttf/STIXGeneralBolIta.ttf', name='STIXGeneral', style='italic', variant='normal', weight=700, stretch='normal', size='scalable')) = 11.335\n",
      "2023-04-28 05:05:56 ===> findfont: score(FontEntry(fname='/usr/local/lib/python3.9/dist-packages/matplotlib/mpl-data/fonts/ttf/cmr10.ttf', name='cmr10', style='normal', variant='normal', weight=400, stretch='normal', size='scalable')) = 10.05\n",
      "2023-04-28 05:05:56 ===> findfont: score(FontEntry(fname='/usr/local/lib/python3.9/dist-packages/matplotlib/mpl-data/fonts/ttf/STIXGeneralBol.ttf', name='STIXGeneral', style='normal', variant='normal', weight=700, stretch='normal', size='scalable')) = 10.335\n",
      "2023-04-28 05:05:56 ===> findfont: score(FontEntry(fname='/usr/local/lib/python3.9/dist-packages/matplotlib/mpl-data/fonts/ttf/DejaVuSerif-BoldItalic.ttf', name='DejaVu Serif', style='italic', variant='normal', weight=700, stretch='normal', size='scalable')) = 11.335\n",
      "2023-04-28 05:05:56 ===> findfont: score(FontEntry(fname='/usr/local/lib/python3.9/dist-packages/matplotlib/mpl-data/fonts/ttf/DejaVuSans-BoldOblique.ttf', name='DejaVu Sans', style='oblique', variant='normal', weight=700, stretch='normal', size='scalable')) = 1.335\n",
      "2023-04-28 05:05:56 ===> findfont: score(FontEntry(fname='/usr/local/lib/python3.9/dist-packages/matplotlib/mpl-data/fonts/ttf/DejaVuSansMono-Bold.ttf', name='DejaVu Sans Mono', style='normal', variant='normal', weight=700, stretch='normal', size='scalable')) = 10.335\n",
      "2023-04-28 05:05:56 ===> findfont: score(FontEntry(fname='/usr/local/lib/python3.9/dist-packages/matplotlib/mpl-data/fonts/ttf/STIXSizTwoSymBol.ttf', name='STIXSizeTwoSym', style='normal', variant='normal', weight=700, stretch='normal', size='scalable')) = 10.335\n",
      "2023-04-28 05:05:56 ===> findfont: score(FontEntry(fname='/usr/local/lib/python3.9/dist-packages/matplotlib/mpl-data/fonts/ttf/cmex10.ttf', name='cmex10', style='normal', variant='normal', weight=400, stretch='normal', size='scalable')) = 10.05\n",
      "2023-04-28 05:05:56 ===> findfont: score(FontEntry(fname='/usr/local/lib/python3.9/dist-packages/matplotlib/mpl-data/fonts/ttf/DejaVuSerif.ttf', name='DejaVu Serif', style='normal', variant='normal', weight=400, stretch='normal', size='scalable')) = 10.05\n",
      "2023-04-28 05:05:56 ===> findfont: score(FontEntry(fname='/usr/local/lib/python3.9/dist-packages/matplotlib/mpl-data/fonts/ttf/STIXNonUniIta.ttf', name='STIXNonUnicode', style='italic', variant='normal', weight=400, stretch='normal', size='scalable')) = 11.05\n",
      "2023-04-28 05:05:56 ===> findfont: score(FontEntry(fname='/usr/local/lib/python3.9/dist-packages/matplotlib/mpl-data/fonts/ttf/STIXSizThreeSymBol.ttf', name='STIXSizeThreeSym', style='normal', variant='normal', weight=700, stretch='normal', size='scalable')) = 10.335\n",
      "2023-04-28 05:05:56 ===> findfont: score(FontEntry(fname='/usr/local/lib/python3.9/dist-packages/matplotlib/mpl-data/fonts/ttf/STIXNonUniBol.ttf', name='STIXNonUnicode', style='normal', variant='normal', weight=700, stretch='normal', size='scalable')) = 10.335\n",
      "2023-04-28 05:05:56 ===> findfont: score(FontEntry(fname='/usr/local/lib/python3.9/dist-packages/matplotlib/mpl-data/fonts/ttf/DejaVuSans-Oblique.ttf', name='DejaVu Sans', style='oblique', variant='normal', weight=400, stretch='normal', size='scalable')) = 1.05\n",
      "2023-04-28 05:05:56 ===> findfont: score(FontEntry(fname='/usr/local/lib/python3.9/dist-packages/matplotlib/mpl-data/fonts/ttf/STIXSizFourSymBol.ttf', name='STIXSizeFourSym', style='normal', variant='normal', weight=700, stretch='normal', size='scalable')) = 10.335\n",
      "2023-04-28 05:05:56 ===> findfont: score(FontEntry(fname='/usr/local/lib/python3.9/dist-packages/matplotlib/mpl-data/fonts/ttf/cmtt10.ttf', name='cmtt10', style='normal', variant='normal', weight=400, stretch='normal', size='scalable')) = 10.05\n",
      "2023-04-28 05:05:56 ===> findfont: score(FontEntry(fname='/usr/local/lib/python3.9/dist-packages/matplotlib/mpl-data/fonts/ttf/DejaVuSansMono-Oblique.ttf', name='DejaVu Sans Mono', style='oblique', variant='normal', weight=400, stretch='normal', size='scalable')) = 11.05\n",
      "2023-04-28 05:05:56 ===> findfont: score(FontEntry(fname='/usr/local/lib/python3.9/dist-packages/matplotlib/mpl-data/fonts/ttf/cmmi10.ttf', name='cmmi10', style='normal', variant='normal', weight=400, stretch='normal', size='scalable')) = 10.05\n",
      "2023-04-28 05:05:56 ===> findfont: score(FontEntry(fname='/usr/local/lib/python3.9/dist-packages/matplotlib/mpl-data/fonts/ttf/DejaVuSans.ttf', name='DejaVu Sans', style='normal', variant='normal', weight=400, stretch='normal', size='scalable')) = 0.05\n",
      "2023-04-28 05:05:56 ===> findfont: score(FontEntry(fname='/usr/local/lib/python3.9/dist-packages/matplotlib/mpl-data/fonts/ttf/STIXGeneralItalic.ttf', name='STIXGeneral', style='italic', variant='normal', weight=400, stretch='normal', size='scalable')) = 11.05\n",
      "2023-04-28 05:05:56 ===> findfont: score(FontEntry(fname='/usr/share/fonts/truetype/dejavu/DejaVuSansMono-Bold.ttf', name='DejaVu Sans Mono', style='normal', variant='normal', weight=700, stretch='normal', size='scalable')) = 10.335\n",
      "2023-04-28 05:05:56 ===> findfont: score(FontEntry(fname='/usr/share/fonts/truetype/dejavu/DejaVuSerif.ttf', name='DejaVu Serif', style='normal', variant='normal', weight=400, stretch='normal', size='scalable')) = 10.05\n",
      "2023-04-28 05:05:56 ===> findfont: score(FontEntry(fname='/usr/share/fonts/truetype/dejavu/DejaVuSans.ttf', name='DejaVu Sans', style='normal', variant='normal', weight=400, stretch='normal', size='scalable')) = 0.05\n",
      "2023-04-28 05:05:56 ===> findfont: score(FontEntry(fname='/usr/share/fonts/truetype/dejavu/DejaVuSansMono.ttf', name='DejaVu Sans Mono', style='normal', variant='normal', weight=400, stretch='normal', size='scalable')) = 10.05\n",
      "2023-04-28 05:05:56 ===> findfont: score(FontEntry(fname='/usr/share/fonts/truetype/dejavu/DejaVuSans-Bold.ttf', name='DejaVu Sans', style='normal', variant='normal', weight=700, stretch='normal', size='scalable')) = 0.33499999999999996\n",
      "2023-04-28 05:05:56 ===> findfont: score(FontEntry(fname='/usr/share/fonts/truetype/dejavu/DejaVuSerif-Bold.ttf', name='DejaVu Serif', style='normal', variant='normal', weight=700, stretch='normal', size='scalable')) = 10.335\n",
      "2023-04-28 05:05:56 ===> findfont: Matching sans\\-serif:style=normal:variant=normal:weight=normal:stretch=normal:size=10.0 to DejaVu Sans ('/usr/local/lib/python3.9/dist-packages/matplotlib/mpl-data/fonts/ttf/DejaVuSans.ttf') with score of 0.050000.\n",
      "2023-04-28 05:05:56 ===> Samples for train of 0= 5034\n",
      "2023-04-28 05:05:56 ===> Samples for train of 1= 5025\n",
      "2023-04-28 05:05:56 ===> Samples for train of 2= 4969\n",
      "2023-04-28 05:05:56 ===> Samples for train of 3= 4942\n",
      "2023-04-28 05:05:56 ===> Samples for train of 4= 4965\n",
      "2023-04-28 05:05:56 ===> Samples for train of 5= 4969\n",
      "2023-04-28 05:05:56 ===> Samples for train of 6= 4989\n",
      "2023-04-28 05:05:56 ===> Samples for train of 7= 4995\n",
      "2023-04-28 05:05:56 ===> Samples for train of 8= 5025\n",
      "2023-04-28 05:05:56 ===> Samples for train of 9= 5087\n",
      "2023-04-28 05:06:54 ===> Epoch: 0 eval_loss: 4.9181 eval_top1: 12.4300 eval_top5: 29.8400\n",
      "2023-04-28 05:06:54 ===> Current epoch time consumption: 0.88 minutes!\n",
      "2023-04-28 05:07:40 ===> Current epoch time consumption: 0.77 minutes!\n",
      "2023-04-28 05:08:25 ===> Current epoch time consumption: 0.75 minutes!\n",
      "2023-04-28 05:09:11 ===> Current epoch time consumption: 0.76 minutes!\n",
      "2023-04-28 05:09:57 ===> Current epoch time consumption: 0.76 minutes!\n",
      "2023-04-28 05:10:42 ===> Current epoch time consumption: 0.76 minutes!\n",
      "2023-04-28 05:11:28 ===> Current epoch time consumption: 0.75 minutes!\n",
      "2023-04-28 05:12:14 ===> Current epoch time consumption: 0.78 minutes!\n",
      "2023-04-28 05:13:01 ===> Current epoch time consumption: 0.78 minutes!\n",
      "2023-04-28 05:13:48 ===> Current epoch time consumption: 0.78 minutes!\n",
      "2023-04-28 05:13:50 ===> Current epoch time consumption: 7.82 minutes!\n",
      "2023-04-28 05:13:50 ===> Estimated remaining training time: 6.38 hours!\n",
      "2023-04-28 05:14:39 ===> Epoch: 1 eval_loss: 4.4787 eval_top1: 16.5100 eval_top5: 36.9800\n",
      "2023-04-28 05:14:39 ===> Current epoch time consumption: 0.81 minutes!\n",
      "2023-04-28 05:15:25 ===> Current epoch time consumption: 0.78 minutes!\n",
      "2023-04-28 05:16:11 ===> Current epoch time consumption: 0.76 minutes!\n",
      "2023-04-28 05:16:57 ===> Current epoch time consumption: 0.76 minutes!\n",
      "2023-04-28 05:17:42 ===> Current epoch time consumption: 0.76 minutes!\n",
      "2023-04-28 05:18:28 ===> Current epoch time consumption: 0.76 minutes!\n",
      "2023-04-28 05:19:14 ===> Current epoch time consumption: 0.76 minutes!\n",
      "2023-04-28 05:20:00 ===> Current epoch time consumption: 0.78 minutes!\n",
      "2023-04-28 05:20:47 ===> Current epoch time consumption: 0.78 minutes!\n",
      "2023-04-28 05:21:34 ===> Current epoch time consumption: 0.78 minutes!\n",
      "2023-04-28 05:21:36 ===> Current epoch time consumption: 7.76 minutes!\n",
      "2023-04-28 05:21:36 ===> Estimated remaining training time: 6.21 hours!\n",
      "2023-04-28 05:22:25 ===> Epoch: 2 eval_loss: 4.1299 eval_top1: 20.0600 eval_top5: 43.4600\n",
      "2023-04-28 05:22:25 ===> Current epoch time consumption: 0.81 minutes!\n",
      "2023-04-28 05:23:11 ===> Current epoch time consumption: 0.78 minutes!\n",
      "2023-04-28 05:25:28 ===> Current epoch time consumption: 0.76 minutes!\n",
      "2023-04-28 05:26:14 ===> Current epoch time consumption: 0.76 minutes!\n",
      "2023-04-28 05:27:00 ===> Current epoch time consumption: 0.76 minutes!\n",
      "2023-04-28 05:27:46 ===> Current epoch time consumption: 0.78 minutes!\n",
      "2023-04-28 05:28:33 ===> Current epoch time consumption: 0.78 minutes!\n",
      "2023-04-28 05:29:19 ===> Current epoch time consumption: 0.78 minutes!\n",
      "2023-04-28 05:29:22 ===> Current epoch time consumption: 7.76 minutes!\n",
      "2023-04-28 05:29:22 ===> Estimated remaining training time: 6.08 hours!\n",
      "2023-04-28 05:30:10 ===> Epoch: 3 eval_loss: 3.8734 eval_top1: 23.3700 eval_top5: 47.6500\n",
      "2023-04-28 05:30:10 ===> Current epoch time consumption: 0.81 minutes!\n",
      "2023-04-28 05:30:57 ===> Current epoch time consumption: 0.78 minutes!\n",
      "2023-04-28 05:31:43 ===> Current epoch time consumption: 0.76 minutes!\n",
      "2023-04-28 05:45:41 ===> Epoch: 5 eval_loss: 3.4037 eval_top1: 28.3800 eval_top5: 55.5800\n",
      "2023-04-28 05:45:41 ===> Current epoch time consumption: 0.81 minutes!\n",
      "2023-04-28 05:46:28 ===> Current epoch time consumption: 0.78 minutes!\n",
      "2023-04-28 05:47:13 ===> Current epoch time consumption: 0.76 minutes!\n",
      "2023-04-28 05:47:59 ===> Current epoch time consumption: 0.76 minutes!\n",
      "2023-04-28 05:48:45 ===> Current epoch time consumption: 0.76 minutes!\n",
      "2023-04-28 05:49:30 ===> Current epoch time consumption: 0.76 minutes!\n",
      "2023-04-28 05:50:15 ===> Current epoch time consumption: 0.76 minutes!\n",
      "2023-04-28 05:56:30 ===> Current epoch time consumption: 0.76 minutes!\n",
      "2023-04-28 05:57:15 ===> Current epoch time consumption: 0.76 minutes!\n",
      "2023-04-28 05:58:01 ===> Current epoch time consumption: 0.76 minutes!\n",
      "2023-04-28 05:58:48 ===> Current epoch time consumption: 0.78 minutes!\n",
      "2023-04-28 05:59:34 ===> Current epoch time consumption: 0.78 minutes!\n",
      "2023-04-28 06:00:21 ===> Current epoch time consumption: 0.78 minutes!\n",
      "2023-04-28 06:00:23 ===> Current epoch time consumption: 7.76 minutes!\n",
      "2023-04-28 06:00:23 ===> Estimated remaining training time: 5.56 hours!\n"
     ]
    }
   ],
   "source": [
    "!python fednp.py \\\n",
    "    --dataset cifar100 \\\n",
    "    --data_dist noniid \\\n",
    "    --K 10 \\\n",
    "    --local_epochs 10 \\\n",
    "    --epochs 50"
   ]
  },
  {
   "cell_type": "code",
   "execution_count": 4,
   "id": "d424a093-6486-478b-8830-3ec9723a324b",
   "metadata": {},
   "outputs": [
    {
     "name": "stdout",
     "output_type": "stream",
     "text": [
      "Collecting tensorboardX\n",
      "  Downloading tensorboardX-2.6-py2.py3-none-any.whl (114 kB)\n",
      "\u001b[2K     \u001b[90m━━━━━━━━━━━━━━━━━━━━━━━━━━━━━━━━━━━━━━\u001b[0m \u001b[32m114.5/114.5 kB\u001b[0m \u001b[31m13.9 MB/s\u001b[0m eta \u001b[36m0:00:00\u001b[0m\n",
      "\u001b[?25hRequirement already satisfied: packaging in /usr/local/lib/python3.9/dist-packages (from tensorboardX) (23.0)\n",
      "Requirement already satisfied: protobuf<4,>=3.8.0 in /usr/local/lib/python3.9/dist-packages (from tensorboardX) (3.19.6)\n",
      "Requirement already satisfied: numpy in /usr/local/lib/python3.9/dist-packages (from tensorboardX) (1.23.4)\n",
      "Installing collected packages: tensorboardX\n",
      "Successfully installed tensorboardX-2.6\n",
      "\u001b[33mWARNING: Running pip as the 'root' user can result in broken permissions and conflicting behaviour with the system package manager. It is recommended to use a virtual environment instead: https://pip.pypa.io/warnings/venv\u001b[0m\u001b[33m\n",
      "\u001b[0m"
     ]
    }
   ],
   "source": [
    "!python -m pip install tensorboardX"
   ]
  },
  {
   "cell_type": "code",
   "execution_count": 7,
   "id": "22c9abba-b2c8-4984-bdc7-5baa83205b33",
   "metadata": {},
   "outputs": [],
   "source": [
    "import numpy"
   ]
  },
  {
   "cell_type": "code",
   "execution_count": 2,
   "id": "f4429641-7f23-41bb-ad3f-c1c8d462a3f3",
   "metadata": {},
   "outputs": [],
   "source": [
    "import subprocess\n",
    "import sys\n",
    "\n",
    "def install(package):\n",
    "    subprocess.check_call([sys.executable, \"-m\", \"pip\", \"install\", package])"
   ]
  },
  {
   "cell_type": "code",
   "execution_count": 3,
   "id": "88962215-6e8e-4acc-9e85-3909c64e6676",
   "metadata": {},
   "outputs": [
    {
     "name": "stdout",
     "output_type": "stream",
     "text": [
      "Requirement already satisfied: numpy in /root/.pyenv/versions/3.7.10/lib/python3.7/site-packages (1.21.6)\n"
     ]
    },
    {
     "name": "stderr",
     "output_type": "stream",
     "text": [
      "WARNING: Running pip as the 'root' user can result in broken permissions and conflicting behaviour with the system package manager. It is recommended to use a virtual environment instead: https://pip.pypa.io/warnings/venv\n"
     ]
    }
   ],
   "source": [
    "install('numpy')"
   ]
  },
  {
   "cell_type": "code",
   "execution_count": null,
   "id": "feca7fc7-34b2-4948-8e45-57ef86d17167",
   "metadata": {},
   "outputs": [],
   "source": []
  }
 ],
 "metadata": {
  "kernelspec": {
   "display_name": "Python 3 (ipykernel)",
   "language": "python",
   "name": "python3"
  },
  "language_info": {
   "codemirror_mode": {
    "name": "ipython",
    "version": 3
   },
   "file_extension": ".py",
   "mimetype": "text/x-python",
   "name": "python",
   "nbconvert_exporter": "python",
   "pygments_lexer": "ipython3",
   "version": "3.9.16"
  }
 },
 "nbformat": 4,
 "nbformat_minor": 5
}
